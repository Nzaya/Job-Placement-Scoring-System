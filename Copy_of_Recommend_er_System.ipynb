{
  "nbformat": 4,
  "nbformat_minor": 0,
  "metadata": {
    "accelerator": "GPU",
    "colab": {
      "name": "Copy of Recommend-er System",
      "provenance": [],
      "collapsed_sections": [],
      "include_colab_link": true
    },
    "kernelspec": {
      "display_name": "Python 3",
      "name": "python3"
    }
  },
  "cells": [
    {
      "cell_type": "markdown",
      "metadata": {
        "id": "view-in-github",
        "colab_type": "text"
      },
      "source": [
        "<a href=\"https://colab.research.google.com/github/Nzaya/Job-Placement-Scoring-System/blob/master/Copy_of_Recommend_er_System.ipynb\" target=\"_parent\"><img src=\"https://colab.research.google.com/assets/colab-badge.svg\" alt=\"Open In Colab\"/></a>"
      ]
    },
    {
      "cell_type": "markdown",
      "metadata": {
        "id": "W3ZXHYvjS35v",
        "colab_type": "text"
      },
      "source": [
        "# QUESTION\n",
        "\n",
        "We have a dataset of candidates who applied to various technical roles at Company X. We want to know the best-matched candidates for each of the job roles. Add a scoring system for every candidate on how best he/she matches to a given job role."
      ]
    },
    {
      "cell_type": "code",
      "metadata": {
        "id": "jCbdCQS8Z5Pn",
        "colab_type": "code",
        "colab": {}
      },
      "source": [
        "# importing files\n",
        "import matplotlib.pyplot as plt\n",
        "import seaborn as sns\n",
        "import numpy as np\n",
        "import pandas as pd\n",
        "import requests\n",
        "from io import StringIO\n",
        "from sklearn.preprocessing import Imputer\n",
        "from sklearn.model_selection import train_test_split\n",
        "\n",
        "#Libraries for reading resumes\n",
        "import os\n",
        "from os import listdir\n",
        "from os.path import isfile, join\n",
        "from io import StringIO\n",
        "from collections import Counter\n",
        "import en_core_web_sm\n",
        "nlp = en_core_web_sm.load()\n",
        "from spacy.matcher import PhraseMatcher"
      ],
      "execution_count": 0,
      "outputs": []
    },
    {
      "cell_type": "code",
      "metadata": {
        "id": "ykiUDoIHrn-Q",
        "colab_type": "code",
        "outputId": "6c96cec2-7baf-491d-956d-5e104b84995f",
        "colab": {
          "base_uri": "https://localhost:8080/",
          "height": 374
        }
      },
      "source": [
        "company_x = 'https://drive.google.com/file/d/1FHU709IpRtgg1LYeOn7P9AAwMNdxeMqG/view?usp=sharing'\n",
        "\n",
        "def read_csv(url):\n",
        "  url = 'https://drive.google.com/uc?export=download&id=' + url.split('/')[-2]\n",
        "  csv_raw = requests.get(url).text\n",
        "  csv = StringIO(csv_raw)\n",
        "  return csv\n",
        "\n",
        "  # Loading the dataset\n",
        "df = pd.read_csv(read_csv(company_x), encoding = 'utf-8')\n",
        "df.head()\n"
      ],
      "execution_count": 3,
      "outputs": [
        {
          "output_type": "execute_result",
          "data": {
            "text/html": [
              "<div>\n",
              "<style scoped>\n",
              "    .dataframe tbody tr th:only-of-type {\n",
              "        vertical-align: middle;\n",
              "    }\n",
              "\n",
              "    .dataframe tbody tr th {\n",
              "        vertical-align: top;\n",
              "    }\n",
              "\n",
              "    .dataframe thead th {\n",
              "        text-align: right;\n",
              "    }\n",
              "</style>\n",
              "<table border=\"1\" class=\"dataframe\">\n",
              "  <thead>\n",
              "    <tr style=\"text-align: right;\">\n",
              "      <th></th>\n",
              "      <th>Candidate Id</th>\n",
              "      <th>Location</th>\n",
              "      <th>Current Annual Salary</th>\n",
              "      <th>Current Salary Currency</th>\n",
              "      <th>Current Salary Type</th>\n",
              "      <th>Expected Annual Salary</th>\n",
              "      <th>Expected Salary Currency</th>\n",
              "      <th>Total Experience in years</th>\n",
              "      <th>Current Industry</th>\n",
              "      <th>Current Fuction</th>\n",
              "      <th>Relocation Cities</th>\n",
              "      <th>Notice Period in days</th>\n",
              "      <th>Current Job Title</th>\n",
              "      <th>Data Source</th>\n",
              "    </tr>\n",
              "  </thead>\n",
              "  <tbody>\n",
              "    <tr>\n",
              "      <th>0</th>\n",
              "      <td>A13380</td>\n",
              "      <td>NCR</td>\n",
              "      <td>NaN</td>\n",
              "      <td>NaN</td>\n",
              "      <td>ANNUAL</td>\n",
              "      <td>60.0</td>\n",
              "      <td>INR</td>\n",
              "      <td>9.00</td>\n",
              "      <td>Banking,Financial Services,Broking</td>\n",
              "      <td>NaN</td>\n",
              "      <td>NaN</td>\n",
              "      <td>NaN</td>\n",
              "      <td>Team Manager Insurance</td>\n",
              "      <td>INDEED.COM</td>\n",
              "    </tr>\n",
              "    <tr>\n",
              "      <th>1</th>\n",
              "      <td>A9339</td>\n",
              "      <td>Vadodara</td>\n",
              "      <td>8.0</td>\n",
              "      <td>INR</td>\n",
              "      <td>ANNUAL</td>\n",
              "      <td>8.0</td>\n",
              "      <td>INR</td>\n",
              "      <td>3.00</td>\n",
              "      <td>Energy and Utilities | Telecommunications#Manu...</td>\n",
              "      <td>Business Development#Manufacturing#Project Man...</td>\n",
              "      <td>NaN</td>\n",
              "      <td>30.0</td>\n",
              "      <td>Marketing Executive</td>\n",
              "      <td>INTERNAL DATABASE</td>\n",
              "    </tr>\n",
              "    <tr>\n",
              "      <th>2</th>\n",
              "      <td>A10220</td>\n",
              "      <td>Noida</td>\n",
              "      <td>11.0</td>\n",
              "      <td>INR</td>\n",
              "      <td>ANNUAL</td>\n",
              "      <td>11.0</td>\n",
              "      <td>INR</td>\n",
              "      <td>0.70</td>\n",
              "      <td>IT | Computer Software#Manufacturing | Mechani...</td>\n",
              "      <td>IT Software</td>\n",
              "      <td>NaN</td>\n",
              "      <td>90.0</td>\n",
              "      <td>Software Developer</td>\n",
              "      <td>INTERNAL DATABASE</td>\n",
              "    </tr>\n",
              "    <tr>\n",
              "      <th>3</th>\n",
              "      <td>A8162</td>\n",
              "      <td>Hyderabad</td>\n",
              "      <td>8.0</td>\n",
              "      <td>INR</td>\n",
              "      <td>ANNUAL</td>\n",
              "      <td>8.0</td>\n",
              "      <td>INR</td>\n",
              "      <td>3.84</td>\n",
              "      <td>IT | Information Services, IT | Computer Software</td>\n",
              "      <td>Business Development, IT Software</td>\n",
              "      <td>NaN</td>\n",
              "      <td>90.0</td>\n",
              "      <td>Senior systems engineer</td>\n",
              "      <td>LINKEDIN</td>\n",
              "    </tr>\n",
              "    <tr>\n",
              "      <th>4</th>\n",
              "      <td>A13729</td>\n",
              "      <td>Hyderabad</td>\n",
              "      <td>9.6</td>\n",
              "      <td>NaN</td>\n",
              "      <td>ANNUAL</td>\n",
              "      <td>11.0</td>\n",
              "      <td>INR</td>\n",
              "      <td>2.50</td>\n",
              "      <td>IT | Computer Software</td>\n",
              "      <td>IT Software#Research</td>\n",
              "      <td>NaN</td>\n",
              "      <td>30.0</td>\n",
              "      <td>Software Developer</td>\n",
              "      <td>LINKEDIN</td>\n",
              "    </tr>\n",
              "  </tbody>\n",
              "</table>\n",
              "</div>"
            ],
            "text/plain": [
              "  Candidate Id   Location  ...        Current Job Title        Data Source\n",
              "0       A13380        NCR  ...   Team Manager Insurance         INDEED.COM\n",
              "1        A9339   Vadodara  ...      Marketing Executive  INTERNAL DATABASE\n",
              "2       A10220      Noida  ...       Software Developer  INTERNAL DATABASE\n",
              "3        A8162  Hyderabad  ...  Senior systems engineer           LINKEDIN\n",
              "4       A13729  Hyderabad  ...       Software Developer           LINKEDIN\n",
              "\n",
              "[5 rows x 14 columns]"
            ]
          },
          "metadata": {
            "tags": []
          },
          "execution_count": 3
        }
      ]
    },
    {
      "cell_type": "code",
      "metadata": {
        "id": "6AN3bfz3vs1K",
        "colab_type": "code",
        "outputId": "a466cb4d-d9cb-4db2-f593-28985133a483",
        "colab": {
          "base_uri": "https://localhost:8080/",
          "height": 428
        }
      },
      "source": [
        "job_details = 'https://drive.google.com/file/d/142EBRBGiLl6iTELhQW9a1c7xvMmfXYtp/view?usp=sharing'\n",
        "\n",
        "job = pd.read_csv(read_csv(job_details))\n",
        "job"
      ],
      "execution_count": 4,
      "outputs": [
        {
          "output_type": "execute_result",
          "data": {
            "text/html": [
              "<div>\n",
              "<style scoped>\n",
              "    .dataframe tbody tr th:only-of-type {\n",
              "        vertical-align: middle;\n",
              "    }\n",
              "\n",
              "    .dataframe tbody tr th {\n",
              "        vertical-align: top;\n",
              "    }\n",
              "\n",
              "    .dataframe thead th {\n",
              "        text-align: right;\n",
              "    }\n",
              "</style>\n",
              "<table border=\"1\" class=\"dataframe\">\n",
              "  <thead>\n",
              "    <tr style=\"text-align: right;\">\n",
              "      <th></th>\n",
              "      <th>Job Id</th>\n",
              "      <th>Job Title</th>\n",
              "      <th>Keywords</th>\n",
              "      <th>Minimum Experience in years</th>\n",
              "      <th>Maximum Experience in Years</th>\n",
              "      <th>Minimum Annual Salary</th>\n",
              "      <th>Maximum Annual Salary</th>\n",
              "      <th>Currency</th>\n",
              "      <th>Must Haves</th>\n",
              "      <th>Company Name</th>\n",
              "      <th>Founded Year</th>\n",
              "      <th>Employee Count</th>\n",
              "      <th>Job Location</th>\n",
              "      <th>Industry</th>\n",
              "      <th>Function</th>\n",
              "      <th>Required Education (UG)</th>\n",
              "      <th>Required Education (PG)</th>\n",
              "      <th>Notice Period (Days)</th>\n",
              "    </tr>\n",
              "  </thead>\n",
              "  <tbody>\n",
              "    <tr>\n",
              "      <th>0</th>\n",
              "      <td>194</td>\n",
              "      <td>Full stack engineer</td>\n",
              "      <td>java,Angular,Jquery,j2ee,microservices,micro s...</td>\n",
              "      <td>2</td>\n",
              "      <td>5</td>\n",
              "      <td>6</td>\n",
              "      <td>15</td>\n",
              "      <td>INR</td>\n",
              "      <td>NaN</td>\n",
              "      <td>Company X</td>\n",
              "      <td>2011</td>\n",
              "      <td>362</td>\n",
              "      <td>Hyderabad</td>\n",
              "      <td>IT | Computer Software</td>\n",
              "      <td>IT Software</td>\n",
              "      <td>B.Tech/B.E.</td>\n",
              "      <td>NaN</td>\n",
              "      <td>60</td>\n",
              "    </tr>\n",
              "    <tr>\n",
              "      <th>1</th>\n",
              "      <td>481</td>\n",
              "      <td>Senior Java Engineer/Tech Lead</td>\n",
              "      <td>J2EE,Java,Hibernate,Webervices,REST Services,S...</td>\n",
              "      <td>7</td>\n",
              "      <td>10</td>\n",
              "      <td>10</td>\n",
              "      <td>15</td>\n",
              "      <td>INR</td>\n",
              "      <td>Should have proficient Java server side progra...</td>\n",
              "      <td>Company X</td>\n",
              "      <td>2011</td>\n",
              "      <td>362</td>\n",
              "      <td>Hyderabad</td>\n",
              "      <td>IT | Computer Software</td>\n",
              "      <td>IT Software</td>\n",
              "      <td>Other UG</td>\n",
              "      <td>Not Required</td>\n",
              "      <td>30</td>\n",
              "    </tr>\n",
              "    <tr>\n",
              "      <th>2</th>\n",
              "      <td>839</td>\n",
              "      <td>Front End Developer</td>\n",
              "      <td>NaN</td>\n",
              "      <td>2</td>\n",
              "      <td>5</td>\n",
              "      <td>4</td>\n",
              "      <td>8</td>\n",
              "      <td>INR</td>\n",
              "      <td>The candidate must have at least 2 years of so...</td>\n",
              "      <td>Company X</td>\n",
              "      <td>2011</td>\n",
              "      <td>362</td>\n",
              "      <td>Bengaluru/Bangalore</td>\n",
              "      <td>IT | Information Technology and Services</td>\n",
              "      <td>IT Software</td>\n",
              "      <td>Undergraduate (engineering)</td>\n",
              "      <td>NaN</td>\n",
              "      <td>30</td>\n",
              "    </tr>\n",
              "    <tr>\n",
              "      <th>3</th>\n",
              "      <td>723</td>\n",
              "      <td>Application Developer</td>\n",
              "      <td>c#, asp.net, sql, java, html5</td>\n",
              "      <td>3</td>\n",
              "      <td>8</td>\n",
              "      <td>4</td>\n",
              "      <td>9</td>\n",
              "      <td>INR</td>\n",
              "      <td>The Application Developer is a role within the...</td>\n",
              "      <td>Company X</td>\n",
              "      <td>2011</td>\n",
              "      <td>362</td>\n",
              "      <td>Bengaluru</td>\n",
              "      <td>IT | Information Technology and Services</td>\n",
              "      <td>IT Software</td>\n",
              "      <td>B.Tech/B.E.</td>\n",
              "      <td>NaN</td>\n",
              "      <td>30</td>\n",
              "    </tr>\n",
              "  </tbody>\n",
              "</table>\n",
              "</div>"
            ],
            "text/plain": [
              "   Job Id  ... Notice Period (Days)\n",
              "0     194  ...                   60\n",
              "1     481  ...                   30\n",
              "2     839  ...                   30\n",
              "3     723  ...                   30\n",
              "\n",
              "[4 rows x 18 columns]"
            ]
          },
          "metadata": {
            "tags": []
          },
          "execution_count": 4
        }
      ]
    },
    {
      "cell_type": "markdown",
      "metadata": {
        "id": "HIJLVTQdg7mZ",
        "colab_type": "text"
      },
      "source": [
        "# Data Exploration"
      ]
    },
    {
      "cell_type": "code",
      "metadata": {
        "id": "pk69h14CZ5Up",
        "colab_type": "code",
        "outputId": "b9a6c617-b5f9-42ad-d776-25f1157453a9",
        "colab": {
          "base_uri": "https://localhost:8080/",
          "height": 340
        }
      },
      "source": [
        "# Checking information about the dataset\n",
        "\n",
        "df.info()"
      ],
      "execution_count": 5,
      "outputs": [
        {
          "output_type": "stream",
          "text": [
            "<class 'pandas.core.frame.DataFrame'>\n",
            "RangeIndex: 7006 entries, 0 to 7005\n",
            "Data columns (total 14 columns):\n",
            "Candidate Id                 7006 non-null object\n",
            "Location                     6924 non-null object\n",
            "Current Annual Salary        5319 non-null float64\n",
            "Current Salary Currency      3601 non-null object\n",
            "Current Salary Type          7005 non-null object\n",
            "Expected Annual Salary       5891 non-null float64\n",
            "Expected Salary Currency     6429 non-null object\n",
            "Total Experience in years    6481 non-null float64\n",
            "Current Industry             7006 non-null object\n",
            "Current Fuction              5763 non-null object\n",
            "Relocation Cities            202 non-null object\n",
            "Notice Period in days        4154 non-null float64\n",
            "Current Job Title            6564 non-null object\n",
            "Data Source                  7006 non-null object\n",
            "dtypes: float64(4), object(10)\n",
            "memory usage: 766.4+ KB\n"
          ],
          "name": "stdout"
        }
      ]
    },
    {
      "cell_type": "code",
      "metadata": {
        "id": "4IFksgajZ5XD",
        "colab_type": "code",
        "outputId": "546e8b98-e451-4d97-e1c4-78e5f34bbbbd",
        "colab": {
          "base_uri": "https://localhost:8080/",
          "height": 297
        }
      },
      "source": [
        "# Checking for statical information\n",
        "\n",
        "df.describe()"
      ],
      "execution_count": 6,
      "outputs": [
        {
          "output_type": "execute_result",
          "data": {
            "text/html": [
              "<div>\n",
              "<style scoped>\n",
              "    .dataframe tbody tr th:only-of-type {\n",
              "        vertical-align: middle;\n",
              "    }\n",
              "\n",
              "    .dataframe tbody tr th {\n",
              "        vertical-align: top;\n",
              "    }\n",
              "\n",
              "    .dataframe thead th {\n",
              "        text-align: right;\n",
              "    }\n",
              "</style>\n",
              "<table border=\"1\" class=\"dataframe\">\n",
              "  <thead>\n",
              "    <tr style=\"text-align: right;\">\n",
              "      <th></th>\n",
              "      <th>Current Annual Salary</th>\n",
              "      <th>Expected Annual Salary</th>\n",
              "      <th>Total Experience in years</th>\n",
              "      <th>Notice Period in days</th>\n",
              "    </tr>\n",
              "  </thead>\n",
              "  <tbody>\n",
              "    <tr>\n",
              "      <th>count</th>\n",
              "      <td>5319.000000</td>\n",
              "      <td>5891.000000</td>\n",
              "      <td>6481.000000</td>\n",
              "      <td>4154.000000</td>\n",
              "    </tr>\n",
              "    <tr>\n",
              "      <th>mean</th>\n",
              "      <td>54.564982</td>\n",
              "      <td>51.515999</td>\n",
              "      <td>5.737999</td>\n",
              "      <td>38.980501</td>\n",
              "    </tr>\n",
              "    <tr>\n",
              "      <th>std</th>\n",
              "      <td>2754.707709</td>\n",
              "      <td>2617.848718</td>\n",
              "      <td>4.456510</td>\n",
              "      <td>26.273522</td>\n",
              "    </tr>\n",
              "    <tr>\n",
              "      <th>min</th>\n",
              "      <td>0.000000</td>\n",
              "      <td>0.000000</td>\n",
              "      <td>0.000000</td>\n",
              "      <td>0.000000</td>\n",
              "    </tr>\n",
              "    <tr>\n",
              "      <th>25%</th>\n",
              "      <td>5.000000</td>\n",
              "      <td>5.000000</td>\n",
              "      <td>2.500000</td>\n",
              "      <td>15.000000</td>\n",
              "    </tr>\n",
              "    <tr>\n",
              "      <th>50%</th>\n",
              "      <td>7.500000</td>\n",
              "      <td>7.600000</td>\n",
              "      <td>4.500000</td>\n",
              "      <td>30.000000</td>\n",
              "    </tr>\n",
              "    <tr>\n",
              "      <th>75%</th>\n",
              "      <td>12.000000</td>\n",
              "      <td>12.000000</td>\n",
              "      <td>8.000000</td>\n",
              "      <td>60.000000</td>\n",
              "    </tr>\n",
              "    <tr>\n",
              "      <th>max</th>\n",
              "      <td>200000.000000</td>\n",
              "      <td>200000.000000</td>\n",
              "      <td>40.980000</td>\n",
              "      <td>90.000000</td>\n",
              "    </tr>\n",
              "  </tbody>\n",
              "</table>\n",
              "</div>"
            ],
            "text/plain": [
              "       Current Annual Salary  ...  Notice Period in days\n",
              "count            5319.000000  ...            4154.000000\n",
              "mean               54.564982  ...              38.980501\n",
              "std              2754.707709  ...              26.273522\n",
              "min                 0.000000  ...               0.000000\n",
              "25%                 5.000000  ...              15.000000\n",
              "50%                 7.500000  ...              30.000000\n",
              "75%                12.000000  ...              60.000000\n",
              "max            200000.000000  ...              90.000000\n",
              "\n",
              "[8 rows x 4 columns]"
            ]
          },
          "metadata": {
            "tags": []
          },
          "execution_count": 6
        }
      ]
    },
    {
      "cell_type": "code",
      "metadata": {
        "id": "HAzB5DazZ5Zw",
        "colab_type": "code",
        "outputId": "ca4c140d-0b82-4380-ef4d-de4964045801",
        "colab": {
          "base_uri": "https://localhost:8080/",
          "height": 1000
        }
      },
      "source": [
        "# Checking for unique  values\n",
        "\n",
        "for i in df.columns:\n",
        "  print(i)\n",
        "  print(df[i].nunique())\n",
        "  print(df[i].unique())\n",
        "  print('\\n')"
      ],
      "execution_count": 7,
      "outputs": [
        {
          "output_type": "stream",
          "text": [
            "Candidate Id\n",
            "7006\n",
            "['A13380' 'A9339' 'A10220' ... 'A14152' 'A13986' 'A11843']\n",
            "\n",
            "\n",
            "Location\n",
            "330\n",
            "['NCR' 'Vadodara' 'Noida' 'Hyderabad' 'Bengaluru/Bangalore' 'Bengaluru'\n",
            " 'Kolkata' 'Mumbai' 'Jabalpur' 'Jaipur' 'Chennai' 'Bangalore' 'New Delhi'\n",
            " 'Vellore' 'Gurgaon' 'Mandsaur' 'Delhi' 'Lucknow' 'bhubaneswar' 'Srinagar'\n",
            " 'Kalyan-Dombivali' 'Gadwal' 'Thiruvananthapuram' 'Bobbili'\n",
            " 'Hyderabad, Secunderabad' 'Bhubaneswar' 'Pune' 'Surat'\n",
            " 'Anywhere in south' 'Navi Mumbai' 'Coimbatore' 'Tumkur' 'Mysore'\n",
            " 'gurgaon' 'Bharuch' nan 'Morinda, India' 'Anywhere in north' 'Indore'\n",
            " 'mumbai' 'hyderabad' 'Kakinada' 'Sivaganga' 'Ranchi' 'Ahmedabad'\n",
            " 'Dibrugarh' 'JAIPUR' 'Anywhere in east' 'Faridabad' 'Cali' 'BHOPAL'\n",
            " 'Patna' 'Nagpur' 'India' 'Mangaluru' 'Thane' 'Udaipur' 'Bhavnagar'\n",
            " 'Athi River' 'Vijayawada' 'Bokaro Steel City' 'Jalore Rajasthan'\n",
            " 'navi Mumbai' 'Hyderabad , Secunderabad' 'Nashik' 'Bhopal' 'Banglore'\n",
            " 'Kullu' 'jaipur' 'Guwahati' 'Palakkad' 'Meerut' 'Ghaziabad' 'Goa'\n",
            " 'Allahabad' 'Adalaj' 'Achalpur' 'Chandigarh' 'delhi' 'Nanded' 'Kanpur'\n",
            " 'Kota' 'Bhubaneshwar' 'kisumu' 'Cochin' 'Dhenkanal'\n",
            " 'lucknow uttar pradesh' 'Ahmadnagar' 'Jodhpur' 'Anantapur' 'New delhi'\n",
            " 'Kochi' 'Kenya' 'Madurai' 'Visakhapatnam' 'Solapur' 'Reengus' 'patna'\n",
            " 'PATNA' 'NEW DELHI' 'Pudukkottai' 'PANIPAT' 'DURG' 'Thanjavur' 'Kolhapur'\n",
            " 'Vapi' 'Karatina' 'Bengaluru , Bangalore' 'Bhilai Nagar' 'Panchkula'\n",
            " 'Nasik' 'Tirunelveli' 'Kisumu' 'Ambikapur' 'Hubli' 'Jalandhar'\n",
            " 'new delhi' 'Wardha' 'Hyderabad Area, India' 'Kakamega' 'Guntur'\n",
            " 'Kottayam' 'pune' 'Salem' 'Noida Area, India' 'Ludhiana'\n",
            " 'Silvassa but Want to move in Delhi' 'Davanagere' 'Ramanagaram' 'MUMBAI'\n",
            " 'faridabad' 'Amalner' 'HYDERABAD' 'Madanapalle' 'Jamshedpur' 'PALAKKAD'\n",
            " 'noida' 'Bhilwara' 'Tirupati' 'Bhimavaram' 'Durgapur' 'Riyadh' 'chennai'\n",
            " 'Adityapur' 'Darbhanga' 'Fatehabad' 'Kharagpur' 'Agra' 'Jamnagar' 'Dhule'\n",
            " 'Rudrapur' 'Dehradun' 'Thika' 'Kollam' 'Dhaka Bangladesh' 'Yamunanagar'\n",
            " 'Tadpatri' 'Wai' 'VOI' 'KOLKATA' 'NAVI MUMBAI' 'Lakhimpur' 'Jhansi'\n",
            " 'Adilabad' 'Nellore' 'Vishakhapatnam Area, India' 'Jabalpur Area, India'\n",
            " 'Kavali' 'Rewari' 'PUNE' 'Bhiwandi' 'Bilaspur' 'Sambhal' 'Nakuru' 'Durg'\n",
            " 'Tiruppur' 'Jammu' 'hydrabad' 'Roorkee' 'Trivandrum' 'Palwal' 'Warangal'\n",
            " 'BENGALURU' 'Alwar' 'dubai' 'Margao' 'Aurangabad' 'Gwalior' 'Patan'\n",
            " 'Salur' 'kochi' 'Bicholim Goa' 'Tunisia' 'ahmedabad' 'Tanuku' 'CHENNAI'\n",
            " 'Baroda' 'Ernakulam' 'Panvel' 'HYderabad' 'Kalimpong' 'Patti' 'DUBAI'\n",
            " 'Karwar' 'Kerala' 'Vishakhapatnam' 'Raipur' 'NOIDA' 'Kampala' 'KOLLAM'\n",
            " 'Rayachoti' 'Anywhere in west' 'Bikaner' 'CHennai' 'Bahadurgarh' 'Mysuru'\n",
            " 'Sarni' 'Nandyal' 'Siliguri' 'Bathinda' 'Panipat' 'Hyderabad TS' 'hubli'\n",
            " 'gurga' 'Rae Bareli' 'Srikakulam' 'Rajkot' 'Dharwad' 'Khammam' 'Tarana'\n",
            " 'Kalyan' 'Pathanamthitta' 'Gulbarga' 'coimbatore' 'dELHI' 'New mumbai'\n",
            " 'Bhuj' 'Chirala' 'Nimbahera' 'LUCKNOW' 'Malappuram' 'Lodwar' 'Shahdol'\n",
            " 'calicut' 'AHmedabad' 'Mohali' 'rabad' 'Karimnagar' 'Ballari'\n",
            " 'Muzaffar nagar' 'NAGPUR' 'Agartala' 'hy' 'Bangalo' 'Amritsar'\n",
            " 'Tiruchirappalli' 'Valsad' 'Eluru Area, India' 'DElhi' 'anjad' 'Kannur'\n",
            " 'Ujjain' 'Sonipat' 'Adra' 'Shanghai' 'Puri' 'Navsari' 'Nadiad' 'Sangli'\n",
            " 'kolkata' 'DELHI' 'Changanassery' 'Banga' 'Rajam' 'hydearabad'\n",
            " 'Mangalore' 'Alappuzha' 'Kadapa' 'navi mumbai' 'New Delhi Area, India'\n",
            " 'nakuru' 'Hosur' 'Bnagalore' 'Neemuch' 'karnal' 'kota' 'Shimla'\n",
            " 'bangalore' 'kampala' 'Moradabad' 'Tbilisi' 'lagos' 'Gooty' 'Hisar'\n",
            " 'Malkapur' 'Asansol' 'Anand' 'Samastipur' 'Cuttack' 'Korba' 'Karur'\n",
            " 'Varanasi' 'thane' 'DHARWAD' 'new' 'Bikaner Area, India' 'Malaysia'\n",
            " 'Udaipurwati' 'GHAZIABAD' 'Kalyan Dombivali' 'Unnao' 'Shikohabad'\n",
            " 'Rohtak' 'Cochin Area, India' 'Isiolo' 'indore' 'Qatar' 'Mira-Bhayandar'\n",
            " 'Dhanbad' 'Tirur' 'Currently In Chennai' 'Kitale' 'Bang' 'Jharsuguda'\n",
            " 'Hajipur' 'Barbil' 'Silvassa' 'Mumba' 'Gudur' 'Hyderbad' 'Tonk']\n",
            "\n",
            "\n",
            "Current Annual Salary\n",
            "370\n",
            "[      nan 8.000e+00 1.100e+01 9.600e+00 1.600e+01 1.000e+01 2.400e+00\n",
            " 2.700e+01 7.600e+00 7.000e+00 4.000e+00 1.200e+01 2.300e+00 1.500e+01\n",
            " 3.600e+01 3.750e+02 5.500e+00 6.500e+00 5.000e+00 5.700e+00 8.200e+00\n",
            " 9.000e+00 2.100e+01 6.000e+00 7.840e+00 3.400e+00 3.000e+00 8.500e+00\n",
            " 4.700e+00 4.800e+00 1.800e+01 4.200e+00 7.200e+00 7.100e+00 3.100e+01\n",
            " 3.750e+00 2.500e+01 5.450e+00 5.800e+00 3.000e+01 5.950e+00 6.800e+00\n",
            " 9.500e+00 5.050e+00 4.500e+00 5.000e+01 1.350e+01 4.300e+00 2.200e+00\n",
            " 3.700e+01 3.550e+00 1.700e+01 9.200e+00 3.900e+00 3.650e+00 1.900e+01\n",
            " 1.250e+01 3.600e+00 3.200e+00 7.500e+00 2.800e+01 1.400e+01 6.200e+00\n",
            " 2.000e+01 2.300e+01 4.600e+00 9.150e+00 5.750e+00 6.550e+00 3.500e+00\n",
            " 4.000e+01 2.650e+00 1.200e+00 1.885e+01 5.000e+03 1.070e+01 5.200e+00\n",
            " 3.840e+00 2.400e+01 1.300e+01 2.500e+00 8.400e+00 1.140e+01 9.550e+00\n",
            " 5.020e+00 0.000e+00 5.600e+00 5.160e+00 3.500e+01 6.000e+01 1.450e+01\n",
            " 4.200e+01 2.600e+00 1.120e+01 2.000e+00 2.800e+00 2.600e+01 1.920e+00\n",
            " 1.075e+01 2.200e+01 5.100e+00 4.150e+00 4.440e+00 3.240e+00 6.400e+00\n",
            " 5.300e+00 5.650e+00 5.400e+01 1.800e+00 4.350e+00 1.500e+00 1.550e+01\n",
            " 2.850e+00 1.230e+01 7.790e+00 4.550e+00 1.150e+01 3.300e+00 8.250e+00\n",
            " 1.650e+01 7.900e+00 5.900e+00 1.560e+00 1.050e+01 9.000e+01 3.200e+01\n",
            " 1.770e+01 8.400e-01 9.650e+00 4.100e+00 3.350e+00 3.050e+00 5.400e+00\n",
            " 1.040e+01 7.450e+00 5.250e+00 1.270e+01 2.350e+01 3.660e+00 6.350e+00\n",
            " 6.000e+02 7.800e+00 4.750e+00 4.500e+01 5.060e+00 6.850e+00 3.480e+00\n",
            " 1.745e+01 1.425e+01 1.750e+01 3.440e+01 1.280e+01 4.400e+00 1.405e+01\n",
            " 8.580e+00 2.760e+00 1.305e+01 8.050e+00 6.600e+00 7.680e+00 4.450e+00\n",
            " 3.900e+01 1.020e+01 4.250e+00 2.050e+00 9.360e+02 7.650e+00 3.800e+00\n",
            " 5.880e+00 3.700e+00 1.570e+00 1.670e+01 2.160e+00 1.015e+01 7.250e+00\n",
            " 8.650e+00 2.700e+00 2.550e+00 5.040e+00 3.300e+01 3.800e+01 6.750e+00\n",
            " 4.850e+00 1.145e+01 7.400e+00 2.325e+01 2.900e+01 5.850e+00 3.950e+00\n",
            " 3.100e+00 6.060e+00 6.900e+00 9.800e+00 8.640e+00 9.750e+00 1.380e+01\n",
            " 1.152e+01 1.200e+03 2.750e+00 3.450e+00 8.220e+00 2.150e+00 8.600e+00\n",
            " 4.950e+00 5.550e+00 4.650e+00 1.760e+01 8.800e+00 7.000e+01 1.520e+01\n",
            " 4.050e+00 3.430e+00 1.580e+01 3.960e+00 1.810e+01 1.620e+00 3.250e+00\n",
            " 1.920e+01 8.900e+00 2.040e+01 9.400e+00 2.100e+00 7.350e+00 3.850e+00\n",
            " 2.040e+03 1.044e+01 2.350e+00 5.350e+00 1.225e+01 4.070e+00 7.010e+00\n",
            " 1.046e+01 1.345e+01 1.590e+01 1.950e+01 1.000e-02 1.170e+01 1.860e+00\n",
            " 4.925e+01 1.260e+01 7.150e+00 1.110e+01 3.360e+00 2.250e+00 9.780e+00\n",
            " 6.700e+00 7.500e+01 2.550e+01 8.700e+00 1.080e+01 2.040e+00 6.050e+00\n",
            " 1.130e+01 1.545e+01 2.450e+00 1.165e+01 4.920e+00 8.000e+01 1.200e+02\n",
            " 1.440e+01 7.750e+00 6.450e+00 2.880e+00 5.240e+00 1.005e+01 1.030e+01\n",
            " 2.000e+05 4.900e+00 6.100e+02 1.180e+01 1.000e+00 6.250e+00 4.190e+00\n",
            " 8.100e+00 1.460e+01 2.150e+01 6.360e+00 1.115e+01 6.600e+02 1.085e+01\n",
            " 1.002e+01 1.010e+01 9.300e+00 3.070e+00 6.340e+00 3.400e+01 7.200e+01\n",
            " 1.505e+01 7.050e+00 6.480e+00 2.570e+00 1.320e+01 9.720e+00 1.007e+01\n",
            " 9.100e+00 2.900e+00 6.300e+00 1.330e+01 6.700e+01 1.510e+00 1.160e+01\n",
            " 1.850e+01 3.120e+00 1.028e+01 1.335e+01 7.550e+00 1.800e+04 9.700e+00\n",
            " 1.125e+01 8.110e+00 6.100e+00 4.620e+00 8.300e+00 1.060e+01 1.510e+01\n",
            " 6.500e+01 1.045e+01 5.770e+00 1.440e+00 8.300e+01 1.023e+01 1.035e+01\n",
            " 3.600e+02 1.215e+01 9.080e+00 1.370e+01 6.000e-01 1.390e+01 5.000e-01\n",
            " 2.250e+01 1.272e+01 3.820e+00 5.640e+00 1.360e+01 1.052e+01 1.836e+01\n",
            " 4.850e+02 3.000e+03 9.090e+00 6.650e+00 6.240e+00 8.400e+01 8.070e+00\n",
            " 4.960e+00 1.395e+01 6.660e+00 7.370e+00 7.020e+00 2.950e+01 1.470e+01\n",
            " 2.340e+00 1.560e+03 7.300e+00 1.410e+01 5.200e+01 6.730e+00 9.090e+02\n",
            " 8.910e+00 2.520e+00 7.700e+00 2.950e+00 8.350e+00 1.530e+01 6.980e+00\n",
            " 1.104e+01 4.080e+00 7.560e+00 2.650e+01 6.940e+00 5.500e+02 4.680e+00]\n",
            "\n",
            "\n",
            "Current Salary Currency \n",
            "5\n",
            "[nan 'INR' 'USD' 'KSh' 'undefined#undefined' 'KSH']\n",
            "\n",
            "\n",
            "Current Salary Type\n",
            "2\n",
            "['ANNUAL' 'MONTHLY' nan]\n",
            "\n",
            "\n",
            "Expected Annual Salary\n",
            "359\n",
            "[6.000e+01 8.000e+00 1.100e+01 1.600e+01 1.000e+01 2.400e+00 2.700e+01\n",
            "       nan 7.600e+00 7.000e+00 4.000e+00 1.200e+01 2.300e+00 2.200e+01\n",
            " 4.200e+01 6.000e+00 5.500e+00 5.000e+00 6.500e+00 5.700e+00 8.200e+00\n",
            " 2.100e+00 9.000e+00 1.500e+01 2.600e+01 7.840e+00 3.400e+00 3.000e+00\n",
            " 8.500e+00 4.700e+00 4.800e+00 2.400e+01 4.200e+00 7.200e+00 6.050e+00\n",
            " 7.100e+00 3.100e+01 3.750e+00 2.500e+01 5.450e+00 5.800e+00 3.000e+01\n",
            " 5.950e+00 6.800e+00 9.500e+00 5.050e+00 5.000e+01 4.300e+00 2.200e+00\n",
            " 3.700e+01 3.200e+00 3.550e+00 2.000e+01 9.200e+00 3.900e+00 3.650e+00\n",
            " 1.350e+01 1.900e+01 1.250e+01 3.600e+00 1.800e+01 7.500e+00 2.800e+01\n",
            " 1.400e+01 3.600e+01 9.600e+00 6.200e+00 2.300e+01 4.000e+01 9.150e+00\n",
            " 1.550e+01 5.750e+00 6.550e+00 4.500e+00 4.400e+00 2.650e+00 1.885e+01\n",
            " 5.000e+03 1.070e+01 5.200e+00 3.840e+00 1.700e+01 1.300e+01 2.500e+00\n",
            " 8.450e+00 1.140e+01 1.020e+01 9.550e+00 5.020e+00 0.000e+00 5.600e+00\n",
            " 5.160e+00 3.500e+01 1.450e+01 2.600e+00 1.120e+01 2.000e+00 8.600e+00\n",
            " 1.920e+00 1.075e+01 8.000e+01 5.100e+00 7.800e+00 4.150e+00 3.240e+00\n",
            " 5.300e+00 5.650e+00 2.100e+01 6.100e+00 5.400e+01 4.350e+00 2.850e+00\n",
            " 2.800e+00 1.230e+01 7.790e+00 4.550e+00 1.150e+01 8.250e+00 3.800e+00\n",
            " 1.650e+01 7.900e+00 8.150e+00 5.900e+00 1.050e+01 6.400e+00 9.000e+01\n",
            " 3.200e+01 1.200e+00 1.770e+01 1.800e+00 3.500e+00 9.650e+00 4.100e+00\n",
            " 3.350e+00 3.050e+00 5.400e+00 1.040e+01 7.450e+00 5.250e+00 1.270e+01\n",
            " 4.950e+00 2.160e+00 6.350e+00 2.150e+00 3.300e+00 6.250e+00 1.225e+01\n",
            " 6.000e+02 4.750e+00 4.500e+01 5.060e+00 6.850e+00 1.745e+01 1.425e+01\n",
            " 1.750e+01 1.280e+01 1.405e+01 8.580e+00 2.760e+00 1.305e+01 8.050e+00\n",
            " 6.600e+00 4.450e+00 8.100e+00 3.900e+01 4.250e+00 2.050e+00 1.800e+03\n",
            " 7.650e+00 2.700e+00 4.600e+00 8.400e+00 5.880e+00 4.650e+00 3.700e+00\n",
            " 1.670e+01 6.700e+00 1.015e+01 7.250e+00 8.650e+00 2.550e+00 3.300e+01\n",
            " 3.800e+01 6.750e+00 6.450e+00 4.850e+00 1.145e+01 7.400e+00 2.325e+01\n",
            " 2.900e+01 5.850e+00 3.950e+00 4.050e+00 6.060e+00 1.205e+01 6.900e+00\n",
            " 9.800e+00 1.680e+01 9.750e+00 1.380e+01 4.920e+00 1.152e+01 7.150e+00\n",
            " 1.200e+03 2.750e+00 1.080e+01 5.550e+00 3.450e+00 1.320e+03 1.760e+01\n",
            " 4.965e+01 8.800e+00 1.445e+01 3.020e+01 7.000e+01 1.520e+01 5.870e+00\n",
            " 1.580e+01 8.900e+00 1.810e+01 1.620e+00 3.250e+00 3.100e+00 9.400e+00\n",
            " 7.350e+00 3.850e+00 2.460e+03 2.350e+00 5.350e+00 2.900e+00 4.070e+00\n",
            " 7.010e+00 1.046e+01 1.345e+01 1.590e+01 1.950e+01 1.440e+01 1.170e+01\n",
            " 4.925e+01 2.350e+01 3.150e+00 1.500e+00 4.900e+00 1.110e+01 7.200e+01\n",
            " 2.250e+00 9.780e+00 7.550e+00 7.500e+01 2.550e+01 8.700e+00 1.130e+01\n",
            " 1.545e+01 2.450e+00 1.165e+01 1.200e+02 1.030e+01 7.750e+00 1.260e+01\n",
            " 1.005e+01 2.000e+05 6.100e+02 1.180e+01 9.840e+00 3.720e+00 1.460e+01\n",
            " 7.080e+00 1.115e+01 1.530e+01 8.400e+02 1.085e+01 1.002e+01 1.010e+01\n",
            " 3.580e+00 6.340e+00 3.400e+01 1.505e+01 7.050e+00 1.320e+01 1.007e+01\n",
            " 9.100e+00 6.300e+00 1.330e+01 6.700e+01 1.510e+00 1.160e+01 1.850e+01\n",
            " 3.120e+00 1.028e+01 8.300e+00 3.215e+01 1.335e+01 1.800e+04 9.700e+00\n",
            " 1.125e+01 2.230e+01 5.150e+00 8.110e+00 1.540e+01 1.060e+01 1.510e+01\n",
            " 6.500e+01 9.900e+00 1.045e+01 5.770e+00 1.440e+00 8.300e+01 4.800e+02\n",
            " 2.150e+01 1.023e+01 1.035e+01 3.600e+02 9.300e+00 1.215e+01 1.245e+01\n",
            " 1.920e+01 9.080e+00 1.370e+01 6.440e+00 1.390e+01 2.640e+01 2.250e+01\n",
            " 1.360e+01 1.052e+01 2.160e+01 4.850e+02 1.000e+00 6.360e+00 2.025e+01\n",
            " 3.000e+03 9.090e+00 6.650e+00 8.400e+01 8.070e+00 5.040e+00 1.395e+01\n",
            " 6.660e+00 7.020e+00 1.470e+01 1.560e+03 7.300e+00 1.410e+01 7.200e+02\n",
            " 5.200e+01 5.500e+01 9.090e+02 2.520e+00 1.025e+01 2.670e+01 1.630e+01\n",
            " 7.700e+00 2.950e+00 8.350e+00 6.980e+00 2.040e+01 4.080e+00 7.560e+00\n",
            " 2.650e+01 6.940e+00 5.500e+02]\n",
            "\n",
            "\n",
            "Expected Salary Currency\n",
            "5\n",
            "['INR' nan 'USD' 'KSh' 'undefined#undefined' 'KSH']\n",
            "\n",
            "\n",
            "Total Experience in years\n",
            "769\n",
            "[ 9.    3.    0.7   3.84  2.5   9.13  2.    1.75 28.    8.19   nan 10.\n",
            "  2.06  8.    6.23  2.7   4.    2.4   6.28  3.58  0.    5.06  2.05 10.99\n",
            "  6.32  3.01  6.5   4.5  25.48  8.21  6.    2.33  3.21  3.5  12.    2.42\n",
            " 14.    1.7   2.21  5.34  9.21  5.22  5.67 13.5   1.25 20.   10.7   2.6\n",
            "  5.3   5.08  0.8   3.03  5.88  3.09 11.    1.98  5.    4.45  7.02  1.58\n",
            "  8.34  3.33  3.4   5.6  30.    6.36  2.75  2.86  7.06  7.08  2.03 11.28\n",
            "  3.04  2.2   6.19  4.06  3.18  1.02  2.17 13.   16.    3.97  4.21 16.38\n",
            "  2.07  8.39  5.48  1.5   5.05  8.06  1.    5.85  2.54  9.5   7.    7.49\n",
            "  2.83  3.08  8.6   3.1   8.18  6.21  6.34 15.    5.49  4.36  5.5   6.68\n",
            " 23.57  1.6   9.16  3.07  2.64  4.08  7.68  9.15  2.1   3.9   7.3   6.07\n",
            "  3.42 17.    5.7   3.6   8.05  4.03  7.96  1.92  5.29  5.31  7.21  4.6\n",
            "  1.2   8.08 24.07  2.01  6.2   1.48 10.25  7.4   1.51  4.31  9.28  4.01\n",
            "  1.9   9.06  8.58  6.4   4.2   3.88  5.21  2.25 14.8   9.2   4.16 12.17\n",
            "  9.19  4.38  2.18  5.02  4.19 19.45 18.    6.48  3.41  4.05  3.32  7.07\n",
            "  2.74  1.67  5.58 12.6  26.    2.3   7.7   7.16  0.5   6.31  3.05  7.67\n",
            "  3.17  1.04  7.6   3.11  8.8   6.09  5.17 18.17  7.56  4.07  5.35 19.\n",
            " 11.5  10.04 12.49 11.21  2.04  5.18  4.3   9.7   8.11  5.38  5.79 20.53\n",
            " 31.17  4.28  5.42  6.49  6.77  4.8   5.1   3.49  1.08  4.11  3.3   7.04\n",
            " 15.68  1.21 20.26  3.16  3.25  7.13  4.64  8.16  4.42 13.42  2.9   5.9\n",
            "  7.5   6.29  5.11 30.13  5.37  6.8   9.1   4.4   1.01  4.78  1.1   6.04\n",
            " 21.    2.02  5.2  22.    2.67  9.6   4.09  0.6  10.4   2.11 17.19  1.83\n",
            "  2.58  7.1   4.69  6.35 13.32  7.05  8.5   1.17  6.06  5.04  5.99  2.65\n",
            " 12.35 12.4  17.28  6.17 11.01 16.21  4.7  10.05  4.9  10.46  1.11 10.9\n",
            "  5.89  4.57  8.33  4.25  7.26  4.61  3.8   7.01  6.13  4.34  6.9   1.8\n",
            "  9.46  7.37  9.18  6.78  7.28  8.15  5.68  5.8   4.75  4.48 40.98  1.99\n",
            "  2.08  5.36  5.97 11.02  5.28  6.05 10.48  1.42  6.59  5.32  4.92 11.7\n",
            "  3.02  8.17 13.21 15.17 10.28 12.21  2.87  6.39 19.5  10.21  4.32  7.17\n",
            " 27.    4.49 12.04 13.18 24.    5.24  6.01 12.99  3.67  5.86  2.8   2.16\n",
            "  9.02  7.98  2.97  9.42 11.18 10.68  3.56  6.25 10.8   1.3   7.34  2.34\n",
            "  3.69  6.58  7.73 16.1   3.06  7.2   1.33 24.35  4.62 11.8  10.5   1.26\n",
            " 19.38  2.53 13.6  13.01 15.42  9.05 15.48  6.08 10.06 16.17  5.69  4.17\n",
            "  1.35 12.5   1.4   3.83  2.57  2.56  4.26  6.38  5.33 10.01 22.18 10.18\n",
            "  6.54  9.17  5.75  9.48 16.16  3.75 10.2  19.23 12.07  4.1  11.38 14.5\n",
            " 31.18  7.19  4.74  6.33  8.02  8.07 20.33  5.25 16.02  3.2   8.04  4.33\n",
            " 10.16  8.38  2.49  8.32 24.32  3.34 14.57 13.11  6.12  6.61  9.99 19.19\n",
            " 17.06  7.39  5.03  4.35 31.02  3.86  7.33  8.66  6.18  7.18  4.58  5.98\n",
            "  7.36 16.06  7.65  8.49  3.19 25.    3.92  9.41 16.01  3.7   0.3   2.12\n",
            "  9.01  4.18  4.67  4.04  8.28  6.37 10.56  8.03 11.1   7.27  5.4   7.29\n",
            " 16.19  4.98 15.16  9.33  6.11  7.38 11.49  0.9   6.71  7.31 11.06  7.09\n",
            "  4.12  7.47  8.48  6.02 16.11  7.25  8.69 29.    6.79  6.7  19.26 21.28\n",
            "  6.88  2.92  6.75 12.01  1.05  7.55  0.99 20.19  8.3  17.7   8.36 16.51\n",
            "  4.02  3.12  9.4   6.92  6.1   4.29  1.82 29.16 10.3   6.55  5.01 11.05\n",
            " 11.19  8.92 12.9   5.55 21.02  6.76  3.37  6.99  5.16  1.24 10.47  6.16\n",
            "  1.69 13.47 17.46 17.21 17.99  5.83 23.06  7.8   3.36 16.05 13.04  6.27\n",
            " 11.3   3.68  4.85  5.39  8.4  14.06  6.66  4.47  8.35 10.09 20.28 14.36\n",
            "  9.04 11.41 12.47  1.63 12.16  9.49 12.25  8.09 19.34  4.37  2.09 11.4\n",
            " 24.04 25.13  6.45  5.47  5.12  3.51 12.69  1.28  9.3  17.12  1.53 14.7\n",
            "  6.69 17.47  4.71  4.27  1.36 10.36  9.08  1.07  3.81  3.48  8.01 10.1\n",
            "  5.09 23.   15.5  11.36  4.15 10.11  5.78 10.33 21.23  3.71 13.25  4.59\n",
            " 13.28  6.47  6.6   6.82 11.16  9.83  0.08  9.52 10.32  6.87 10.98 16.9\n",
            " 13.51  3.31  1.56 23.2   3.54 18.04  7.85  1.54 21.21  9.54 15.33 11.76\n",
            " 11.23 12.06  4.56  5.23  0.4  17.02  1.16 11.17  5.96  8.31 17.38  9.68\n",
            "  5.92  3.28 16.5   7.45  3.27  8.68 14.28 13.13 14.98  7.77  8.2   9.77\n",
            "  7.9  10.17  3.94 28.23 17.18 18.23 18.28  6.44  9.07 10.26  7.11  4.88\n",
            " 12.28 12.3   2.98  2.66  8.7   6.83  6.98  1.09  7.32  7.89  1.06  4.99\n",
            " 12.8  21.33  2.28 17.16  6.03 14.21  5.66  8.1  19.25  9.34  8.78  7.63\n",
            " 10.76  1.88  4.83 14.17  7.46 15.32  3.95 10.84  8.94  6.46 12.7  14.33\n",
            "  6.3   7.86 10.67 17.48  6.15  8.61 16.3  32.   12.18  8.26 10.49 10.6\n",
            "  2.48  4.84 10.19 13.2  17.69 10.88 11.04 12.98  8.71 37.19  4.39 11.78\n",
            "  5.56  4.63  5.46 18.05  5.19  9.09  4.13  7.48  5.07  7.69 10.93 21.47\n",
            "  5.41 16.36  7.12  3.29 21.76 15.46 21.72  9.98 19.75  9.03  9.32 23.28\n",
            " 10.07  6.22 23.46 21.05  2.71  9.8   3.15 13.33 16.18 13.02  8.97  1.38\n",
            " 11.03  4.51  2.36 13.16  6.57 17.26  1.49 12.41 17.34 10.35  8.37 18.5\n",
            "  3.62  6.14 17.57 31.28  8.47 16.99  3.47 13.99 13.17  9.47  2.44 10.78\n",
            "  2.15 10.51]\n",
            "\n",
            "\n",
            "Current Industry\n",
            "2452\n",
            "['Banking,Financial Services,Broking'\n",
            " 'Energy and Utilities | Telecommunications#Manufacturing | Electrical/Electronic Manufacturing#Ads, PR, Events | Marketing and Advertising'\n",
            " 'IT | Computer Software#Manufacturing | Mechanical or Industrial Engineering'\n",
            " ...\n",
            " 'Education | Professional Training & Coaching, Professional Services | Human Resources'\n",
            " 'Financial | Banking#Financial | Business and financial operations#Ads, PR, Events | Public Relations and Communications'\n",
            " 'Consumer | Consumer Services#Ads, PR, Events | Marketing and Advertising#Professional Services | Research']\n",
            "\n",
            "\n",
            "Current Fuction\n",
            "2297\n",
            "[nan 'Business Development#Manufacturing#Project Management' 'IT Software'\n",
            " ... 'Training, Human Resources, Recruitment, Research'\n",
            " 'Customer Service, BPO#Analytics, Business Intelligence#Management'\n",
            " 'Production#Manufacturing#Design, Creative, User Experience']\n",
            "\n",
            "\n",
            "Relocation Cities \n",
            "73\n",
            "[nan 'Hyderabad, Secunderabad'\n",
            " 'Hyderabad, Secunderabad,Chennai,Bengaluru, Bangalore'\n",
            " 'Anywhere in India' 'Hyderabad' 'Hyderabad, Secunderabad,Kolkata'\n",
            " 'Delhi, NCR,Delhi,Noida, Greater Noida' 'INDIA'\n",
            " 'Chennai,Bengaluru, Bangalore,Anywhere in India'\n",
            " 'Hyderabad, Secunderabad,Bengaluru, Bangalore,Visakhapatnam'\n",
            " 'Gurgaon,Noida,Bangalore,Hyderabad,Chandigarh,Mumbai'\n",
            " 'Hyderabad, Secunderabad,Anywhere in South India,Anywhere in India'\n",
            " 'Hyderabad, Secunderabad,Bengaluru, Bangalore' 'Pune'\n",
            " 'Hyderabad, Secunderabad,Chennai,Vijayawada' 'Mangalore'\n",
            " 'Delhi, NCR,Bengaluru, Bangalore' 'Anywhere in South India'\n",
            " 'Anywhere in United Arab Emirates'\n",
            " 'Hyderabad, Secunderabad,Visakhapatnam,Bhubaneshwar'\n",
            " 'Anywhere excluding India' 'Hyderabad,Bangalore,Pune'\n",
            " 'Hyderabad, Secunderabad,Visakhapatnam,Anywhere in India'\n",
            " 'Hyderabad, Secunderabad,Hyderabad, Secunderabad' 'Dubai,Malaysia'\n",
            " 'Nairobi,Mombasa,Kampala,Eldoret,Narok' 'Bangalore,Pune,Delhi,Hyderabad'\n",
            " 'Hyderabad, Secunderabad,Pune,Bengaluru, Bangalore'\n",
            " 'Anywhere in Qatar,Anywhere in India' 'Bengaluru, Bangalore'\n",
            " 'Anywhere in US,Australia'\n",
            " 'Hyderabad, Secunderabad,Bengaluru, Bangalore,Anywhere in South India'\n",
            " 'Bengaluru , Bangalore,Hyderabad,Mumbai' 'Any Metro in India,Pune'\n",
            " 'Bengaluru, Bangalore,Hyderabad, Secunderabad,Visakhapatnam'\n",
            " 'Hyderabad, Secunderabad,Anywhere in India' 'No Preference' 'Mumbai'\n",
            " 'Pune,Bengaluru' 'Singapore,Australia,Anywhere in India'\n",
            " 'Anywhere in India,Hyderabad, Secunderabad' 'Bangalore,Hyderabad,Chennai'\n",
            " 'Hyderabad, Secunderabad,Anywhere in Andhra Pradesh'\n",
            " 'Bengaluru, Bangalore,Hyderabad, Secunderabad' 'Gurgaon,Bangalore,Pune'\n",
            " 'Anywhere in India,Delhi, NCR'\n",
            " 'Bengaluru, Bangalore,Chennai,Hyderabad, Secunderabad' 'Kolkata'\n",
            " 'Anywhere in India,Anywhere in South India'\n",
            " 'Anywhere in India,Bengaluru, Bangalore,Chennai'\n",
            " 'Anywhere in Kuwait,Anywhere in Karnataka,Anywhere in India'\n",
            " 'Hyderabad, Secunderabad,Bengaluru, Bangalore,Kolkata'\n",
            " 'Hyderabad, Secunderabad,Kolkata,Chandigarh'\n",
            " 'Hyderabad, Secunderabad,Noida, Greater Noida'\n",
            " 'Anywhere in South India,ANDHRA PRADESH(vishakapatnam)'\n",
            " 'Washington DC,Hyderabad, Secunderabad,New York City'\n",
            " 'Anywhere in US,Hyderabad, Secunderabad,Anywhere in United Arab Emirates'\n",
            " 'Hyderabad, Secunderabad,Mumbai,Pune' 'Any Metro in India'\n",
            " 'Hyderabad,Pune' 'Hyderabad, Secunderabad,Visakhapatnam'\n",
            " 'INTERNATIONAL(Europe, US, CANADA),Any Metro in India'\n",
            " 'Anywhere in West India,Ahmedabad,Pune' 'Pune,Mangalore,Hubli'\n",
            " 'Bangalore,Mangaluru,Mysore' 'Pune,Bangalore,Mumbai' 'Gurgaon'\n",
            " 'Bangalore,Manglaur' 'Hyderabad, Secunderabad,Pune,Mumbai'\n",
            " 'Hyderabad,Delhi,Gurgaon,Mumbai,Pune,Noida'\n",
            " 'Hyderabad, Secunderabad,Anywhere excluding India'\n",
            " 'INTERNATIONAL(Dubai),UK,Anywhere in India'\n",
            " 'Hyderabad, Secunderabad,INTERNATIONAL(Hyderabad)'\n",
            " 'Varanasi,Allahabad,Kanpur,Lucknow,Indore,Bhopal,Nainital,Agra,Panvel,Azamgarh,Jabalpur,Satna,Pune,Mysore,Ranchi,Raipur,Patna,Bhubaneswar,Bilaspur,Jaipur,Shimla,Chandigarh,Udaipur']\n",
            "\n",
            "\n",
            "Notice Period in days\n",
            "7\n",
            "[nan 30. 90. 60. 45. 15.  0. 10.]\n",
            "\n",
            "\n",
            "Current Job Title\n",
            "2989\n",
            "['Team Manager Insurance' 'Marketing Executive' 'Software Developer' ...\n",
            " 'Node.js Developer' 'Soft Skills Trainer'\n",
            " 'Manager Escalations for MDs Office']\n",
            "\n",
            "\n",
            "Data Source\n",
            "18\n",
            "['INDEED.COM' 'INTERNAL DATABASE' 'LINKEDIN' 'MONSTERDB' 'DIRECT' 'INDEED'\n",
            " 'TIMES JOBS' 'MONSTERDB_UPLOAD' 'MONSTER' 'LINKEDIN MESSAGING' 'UPLOADS'\n",
            " 'REFERALL 1' 'RECOMMENDED' 'JOBWEBKENYA' 'OTHER' 'REFERALL 2' 'WHATSAPP'\n",
            " 'BRIGHTER MONDAY']\n",
            "\n",
            "\n"
          ],
          "name": "stdout"
        }
      ]
    },
    {
      "cell_type": "markdown",
      "metadata": {
        "id": "DbepJOyOg1YV",
        "colab_type": "text"
      },
      "source": [
        "# Data Cleaning"
      ]
    },
    {
      "cell_type": "markdown",
      "metadata": {
        "id": "Wq4tcK6kLhIw",
        "colab_type": "text"
      },
      "source": [
        "## Uniformity of columns"
      ]
    },
    {
      "cell_type": "code",
      "metadata": {
        "id": "8Am8zx50gbqN",
        "colab_type": "code",
        "outputId": "bb053feb-cde5-41b3-ffa0-7fc48835e46b",
        "colab": {
          "base_uri": "https://localhost:8080/",
          "height": 136
        }
      },
      "source": [
        "# Making the columns to be uniform by removing spaces and converting it to lower\n",
        "\n",
        "df.columns = df.columns.str.lower().str.replace(' ','_')\n",
        "df.columns"
      ],
      "execution_count": 8,
      "outputs": [
        {
          "output_type": "execute_result",
          "data": {
            "text/plain": [
              "Index(['candidate_id', 'location', 'current_annual_salary',\n",
              "       'current_salary_currency_', 'current_salary_type',\n",
              "       'expected_annual_salary', 'expected_salary_currency',\n",
              "       'total_experience_in_years', 'current_industry', 'current_fuction',\n",
              "       'relocation_cities_', 'notice_period_in_days', 'current_job_title',\n",
              "       'data_source'],\n",
              "      dtype='object')"
            ]
          },
          "metadata": {
            "tags": []
          },
          "execution_count": 8
        }
      ]
    },
    {
      "cell_type": "markdown",
      "metadata": {
        "id": "bZkc2JHRLmNc",
        "colab_type": "text"
      },
      "source": [
        "## Dealing with missing values"
      ]
    },
    {
      "cell_type": "code",
      "metadata": {
        "id": "pTDI7wgFZ5cV",
        "colab_type": "code",
        "outputId": "333257b2-8cd0-4a7c-dab6-8b341b201c1c",
        "colab": {
          "base_uri": "https://localhost:8080/",
          "height": 272
        }
      },
      "source": [
        "# Checking for missing values\n",
        "\n",
        "df.isnull().sum()"
      ],
      "execution_count": 9,
      "outputs": [
        {
          "output_type": "execute_result",
          "data": {
            "text/plain": [
              "candidate_id                    0\n",
              "location                       82\n",
              "current_annual_salary        1687\n",
              "current_salary_currency_     3405\n",
              "current_salary_type             1\n",
              "expected_annual_salary       1115\n",
              "expected_salary_currency      577\n",
              "total_experience_in_years     525\n",
              "current_industry                0\n",
              "current_fuction              1243\n",
              "relocation_cities_           6804\n",
              "notice_period_in_days        2852\n",
              "current_job_title             442\n",
              "data_source                     0\n",
              "dtype: int64"
            ]
          },
          "metadata": {
            "tags": []
          },
          "execution_count": 9
        }
      ]
    },
    {
      "cell_type": "code",
      "metadata": {
        "id": "cXrGsfIzKzSn",
        "colab_type": "code",
        "colab": {}
      },
      "source": [
        "\n",
        "list1 = ['location','current_job_title']\n",
        "for i in list1:\n",
        "  df[i].fillna('unknown',inplace=True)"
      ],
      "execution_count": 0,
      "outputs": []
    },
    {
      "cell_type": "code",
      "metadata": {
        "id": "ZVSPLQfSdVl4",
        "colab_type": "code",
        "colab": {}
      },
      "source": [
        "df['expected_salary_currency'] = df['expected_salary_currency'].replace({'KSh': 'KSH', 'undefined#undefined': 'UNKNOWN'})\n",
        "df['expected_salary_currency'] = df['expected_salary_currency'].replace(to_replace = np.nan, value = 'UNKNOWN')"
      ],
      "execution_count": 0,
      "outputs": []
    },
    {
      "cell_type": "code",
      "metadata": {
        "id": "voYYasuFegOC",
        "colab_type": "code",
        "colab": {}
      },
      "source": [
        "df['current_salary_currency_'] = df['current_salary_currency_'].replace({'KSh': 'KSH', 'undefined#undefined': 'UNKNOWN'})\n",
        "df['current_salary_currency_'] = df['current_salary_currency_'].replace(to_replace = np.nan, value = 'UNKNOWN')"
      ],
      "execution_count": 0,
      "outputs": []
    },
    {
      "cell_type": "code",
      "metadata": {
        "id": "hzvs9ByLenrh",
        "colab_type": "code",
        "outputId": "79824d06-fd15-4b4c-83d7-ff3045d44e16",
        "colab": {
          "base_uri": "https://localhost:8080/",
          "height": 34
        }
      },
      "source": [
        "df['current_salary_currency_'].unique()"
      ],
      "execution_count": 13,
      "outputs": [
        {
          "output_type": "execute_result",
          "data": {
            "text/plain": [
              "array(['UNKNOWN', 'INR', 'USD', 'KSH'], dtype=object)"
            ]
          },
          "metadata": {
            "tags": []
          },
          "execution_count": 13
        }
      ]
    },
    {
      "cell_type": "code",
      "metadata": {
        "id": "VRyEYO1ReEyb",
        "colab_type": "code",
        "outputId": "255240a7-6b8f-4c79-8714-944c576129bb",
        "colab": {
          "base_uri": "https://localhost:8080/",
          "height": 34
        }
      },
      "source": [
        "df['expected_salary_currency'].unique()"
      ],
      "execution_count": 14,
      "outputs": [
        {
          "output_type": "execute_result",
          "data": {
            "text/plain": [
              "array(['INR', 'UNKNOWN', 'USD', 'KSH'], dtype=object)"
            ]
          },
          "metadata": {
            "tags": []
          },
          "execution_count": 14
        }
      ]
    },
    {
      "cell_type": "code",
      "metadata": {
        "id": "LLvz5tNxDBxq",
        "colab_type": "code",
        "colab": {}
      },
      "source": [
        "df['current_fuction'] = df['current_fuction'].fillna(df['current_fuction'].mode()[0])"
      ],
      "execution_count": 0,
      "outputs": []
    },
    {
      "cell_type": "code",
      "metadata": {
        "id": "CljMSIQ_e_U9",
        "colab_type": "code",
        "colab": {}
      },
      "source": [
        "list2  = ['expected_annual_salary','current_annual_salary']\n",
        "for i in list2:\n",
        "  df[i] = df[i].fillna(df[i].mean())"
      ],
      "execution_count": 0,
      "outputs": []
    },
    {
      "cell_type": "code",
      "metadata": {
        "id": "poqOJD4ufRYj",
        "colab_type": "code",
        "colab": {}
      },
      "source": [
        "df['notice_period_in_days'] =df['notice_period_in_days'].fillna(30)"
      ],
      "execution_count": 0,
      "outputs": []
    },
    {
      "cell_type": "code",
      "metadata": {
        "id": "4xHhiQmbKBrm",
        "colab_type": "code",
        "colab": {}
      },
      "source": [
        "df['total_experience_in_years'] =df['total_experience_in_years'].fillna(0)"
      ],
      "execution_count": 0,
      "outputs": []
    },
    {
      "cell_type": "code",
      "metadata": {
        "id": "u2srnTBxK5jZ",
        "colab_type": "code",
        "outputId": "0d78aef7-3989-41aa-e008-ea12664917b0",
        "colab": {
          "base_uri": "https://localhost:8080/",
          "height": 68
        }
      },
      "source": [
        "df['current_salary_type'].value_counts()"
      ],
      "execution_count": 19,
      "outputs": [
        {
          "output_type": "execute_result",
          "data": {
            "text/plain": [
              "ANNUAL     6963\n",
              "MONTHLY      42\n",
              "Name: current_salary_type, dtype: int64"
            ]
          },
          "metadata": {
            "tags": []
          },
          "execution_count": 19
        }
      ]
    },
    {
      "cell_type": "code",
      "metadata": {
        "id": "IrAs_QF8LMNe",
        "colab_type": "code",
        "colab": {}
      },
      "source": [
        "df['current_salary_type'] = df['current_salary_type'].fillna('ANNUAL')"
      ],
      "execution_count": 0,
      "outputs": []
    },
    {
      "cell_type": "code",
      "metadata": {
        "id": "NaK2ZOWgZ5f9",
        "colab_type": "code",
        "colab": {}
      },
      "source": [
        "# Checking the uniformity of the names\n",
        "\n",
        "df.drop('relocation_cities_',axis=1,inplace=True)"
      ],
      "execution_count": 0,
      "outputs": []
    },
    {
      "cell_type": "code",
      "metadata": {
        "id": "elbQpJYdZQt6",
        "colab_type": "code",
        "outputId": "e3750507-eadd-44fc-9e5f-d5c328536475",
        "colab": {
          "base_uri": "https://localhost:8080/",
          "height": 255
        }
      },
      "source": [
        "#Rechecking the null values\n",
        "\n",
        "df.isnull().sum()"
      ],
      "execution_count": 22,
      "outputs": [
        {
          "output_type": "execute_result",
          "data": {
            "text/plain": [
              "candidate_id                 0\n",
              "location                     0\n",
              "current_annual_salary        0\n",
              "current_salary_currency_     0\n",
              "current_salary_type          0\n",
              "expected_annual_salary       0\n",
              "expected_salary_currency     0\n",
              "total_experience_in_years    0\n",
              "current_industry             0\n",
              "current_fuction              0\n",
              "notice_period_in_days        0\n",
              "current_job_title            0\n",
              "data_source                  0\n",
              "dtype: int64"
            ]
          },
          "metadata": {
            "tags": []
          },
          "execution_count": 22
        }
      ]
    },
    {
      "cell_type": "code",
      "metadata": {
        "id": "myUL7GzUgbmb",
        "colab_type": "code",
        "outputId": "d7dc2d29-6bef-4b37-97c0-5593849ff547",
        "colab": {
          "base_uri": "https://localhost:8080/",
          "height": 34
        }
      },
      "source": [
        "# Checking for duplicates\n",
        "\n",
        "df.duplicated().any()"
      ],
      "execution_count": 23,
      "outputs": [
        {
          "output_type": "execute_result",
          "data": {
            "text/plain": [
              "False"
            ]
          },
          "metadata": {
            "tags": []
          },
          "execution_count": 23
        }
      ]
    },
    {
      "cell_type": "markdown",
      "metadata": {
        "id": "9qENszjihqWg",
        "colab_type": "text"
      },
      "source": [
        "There are no duplicates"
      ]
    },
    {
      "cell_type": "code",
      "metadata": {
        "id": "7nk57XMMMZMU",
        "colab_type": "code",
        "outputId": "d16c9f8b-94ec-45a8-fc3d-d09dce2ee826",
        "colab": {
          "base_uri": "https://localhost:8080/",
          "height": 119
        }
      },
      "source": [
        "#Checking the columns\n",
        "\n",
        "df.columns"
      ],
      "execution_count": 24,
      "outputs": [
        {
          "output_type": "execute_result",
          "data": {
            "text/plain": [
              "Index(['candidate_id', 'location', 'current_annual_salary',\n",
              "       'current_salary_currency_', 'current_salary_type',\n",
              "       'expected_annual_salary', 'expected_salary_currency',\n",
              "       'total_experience_in_years', 'current_industry', 'current_fuction',\n",
              "       'notice_period_in_days', 'current_job_title', 'data_source'],\n",
              "      dtype='object')"
            ]
          },
          "metadata": {
            "tags": []
          },
          "execution_count": 24
        }
      ]
    },
    {
      "cell_type": "code",
      "metadata": {
        "id": "ly93h-8Egbj-",
        "colab_type": "code",
        "outputId": "11fbbd55-09a1-4ad5-c51e-e32209a82036",
        "colab": {
          "base_uri": "https://localhost:8080/",
          "height": 635
        }
      },
      "source": [
        "# Checking for outliers\n",
        "\n",
        "numerical = ['current_annual_salary','expected_annual_salary','total_experience_in_years','notice_period_in_days']\n",
        "fig, axes = plt.subplots(nrows = 2, ncols = 2, figsize = (15, 10))\n",
        "plt.suptitle('Checking for outliers using boxplots', fontsize = 15, y = 0.92)\n",
        "for ax, data, column in zip(axes.flatten(), df, numerical):\n",
        "  sns.boxplot(df[column], ax = ax,palette = 'rainbow')\n",
        "  ax.set_facecolor('grey')"
      ],
      "execution_count": 25,
      "outputs": [
        {
          "output_type": "display_data",
          "data": {
            "image/png": "[encoded data removed]",
            "text/plain": [
              "<Figure size 1080x720 with 4 Axes>"
            ]
          },
          "metadata": {
            "tags": []
          }
        }
      ]
    },
    {
      "cell_type": "markdown",
      "metadata": {
        "id": "4qElwPOsN2HO",
        "colab_type": "text"
      },
      "source": [
        "There exist several outliers.\n",
        "\n",
        "Which we shall keep so that we identify the reason for exsistence"
      ]
    },
    {
      "cell_type": "code",
      "metadata": {
        "id": "u7vM7qUTgbXU",
        "colab_type": "code",
        "outputId": "43e6a153-d7f5-45aa-fdb4-4e0a5611fef9",
        "colab": {
          "base_uri": "https://localhost:8080/",
          "height": 173
        }
      },
      "source": [
        "# Checking multicollinerity\n",
        "\n",
        "correlation = df.corr()\n",
        "pd.DataFrame(np.linalg.inv(correlation),index =correlation.index,columns=correlation.columns)"
      ],
      "execution_count": 26,
      "outputs": [
        {
          "output_type": "execute_result",
          "data": {
            "text/html": [
              "<div>\n",
              "<style scoped>\n",
              "    .dataframe tbody tr th:only-of-type {\n",
              "        vertical-align: middle;\n",
              "    }\n",
              "\n",
              "    .dataframe tbody tr th {\n",
              "        vertical-align: top;\n",
              "    }\n",
              "\n",
              "    .dataframe thead th {\n",
              "        text-align: right;\n",
              "    }\n",
              "</style>\n",
              "<table border=\"1\" class=\"dataframe\">\n",
              "  <thead>\n",
              "    <tr style=\"text-align: right;\">\n",
              "      <th></th>\n",
              "      <th>current_annual_salary</th>\n",
              "      <th>expected_annual_salary</th>\n",
              "      <th>total_experience_in_years</th>\n",
              "      <th>notice_period_in_days</th>\n",
              "    </tr>\n",
              "  </thead>\n",
              "  <tbody>\n",
              "    <tr>\n",
              "      <th>current_annual_salary</th>\n",
              "      <td>5927.682840</td>\n",
              "      <td>-5927.152457</td>\n",
              "      <td>2.118413</td>\n",
              "      <td>3.342185</td>\n",
              "    </tr>\n",
              "    <tr>\n",
              "      <th>expected_annual_salary</th>\n",
              "      <td>-5927.152457</td>\n",
              "      <td>5927.622294</td>\n",
              "      <td>-2.105042</td>\n",
              "      <td>-3.342289</td>\n",
              "    </tr>\n",
              "    <tr>\n",
              "      <th>total_experience_in_years</th>\n",
              "      <td>2.118413</td>\n",
              "      <td>-2.105042</td>\n",
              "      <td>1.004039</td>\n",
              "      <td>-0.054648</td>\n",
              "    </tr>\n",
              "    <tr>\n",
              "      <th>notice_period_in_days</th>\n",
              "      <td>3.342185</td>\n",
              "      <td>-3.342289</td>\n",
              "      <td>-0.054648</td>\n",
              "      <td>1.004993</td>\n",
              "    </tr>\n",
              "  </tbody>\n",
              "</table>\n",
              "</div>"
            ],
            "text/plain": [
              "                           current_annual_salary  ...  notice_period_in_days\n",
              "current_annual_salary                5927.682840  ...               3.342185\n",
              "expected_annual_salary              -5927.152457  ...              -3.342289\n",
              "total_experience_in_years               2.118413  ...              -0.054648\n",
              "notice_period_in_days                   3.342185  ...               1.004993\n",
              "\n",
              "[4 rows x 4 columns]"
            ]
          },
          "metadata": {
            "tags": []
          },
          "execution_count": 26
        }
      ]
    },
    {
      "cell_type": "markdown",
      "metadata": {
        "id": "M-xjuW_EOiG9",
        "colab_type": "text"
      },
      "source": [
        "There is high multicollinearity between current annual salary and expected annual salary so we have to drop one...preferably the expected annual salary"
      ]
    },
    {
      "cell_type": "code",
      "metadata": {
        "id": "zn55TDyUOgje",
        "colab_type": "code",
        "colab": {}
      },
      "source": [
        "#Dropping the expected annual salary column\n",
        "\n",
        "df.drop('expected_annual_salary',inplace=True,axis=1)"
      ],
      "execution_count": 0,
      "outputs": []
    },
    {
      "cell_type": "code",
      "metadata": {
        "id": "duheYysNOgg0",
        "colab_type": "code",
        "outputId": "271d7eb7-c286-4828-a164-9b2889096f2f",
        "colab": {
          "base_uri": "https://localhost:8080/",
          "height": 142
        }
      },
      "source": [
        "# Checking multicollinerity after dropping the expected annual salary\n",
        "\n",
        "correlation = df.corr()\n",
        "pd.DataFrame(np.linalg.inv(correlation),index =correlation.index,columns=correlation.columns)"
      ],
      "execution_count": 28,
      "outputs": [
        {
          "output_type": "execute_result",
          "data": {
            "text/html": [
              "<div>\n",
              "<style scoped>\n",
              "    .dataframe tbody tr th:only-of-type {\n",
              "        vertical-align: middle;\n",
              "    }\n",
              "\n",
              "    .dataframe tbody tr th {\n",
              "        vertical-align: top;\n",
              "    }\n",
              "\n",
              "    .dataframe thead th {\n",
              "        text-align: right;\n",
              "    }\n",
              "</style>\n",
              "<table border=\"1\" class=\"dataframe\">\n",
              "  <thead>\n",
              "    <tr style=\"text-align: right;\">\n",
              "      <th></th>\n",
              "      <th>current_annual_salary</th>\n",
              "      <th>total_experience_in_years</th>\n",
              "      <th>notice_period_in_days</th>\n",
              "    </tr>\n",
              "  </thead>\n",
              "  <tbody>\n",
              "    <tr>\n",
              "      <th>current_annual_salary</th>\n",
              "      <td>1.000184</td>\n",
              "      <td>0.013538</td>\n",
              "      <td>0.000161</td>\n",
              "    </tr>\n",
              "    <tr>\n",
              "      <th>total_experience_in_years</th>\n",
              "      <td>0.013538</td>\n",
              "      <td>1.003291</td>\n",
              "      <td>-0.055835</td>\n",
              "    </tr>\n",
              "    <tr>\n",
              "      <th>notice_period_in_days</th>\n",
              "      <td>0.000161</td>\n",
              "      <td>-0.055835</td>\n",
              "      <td>1.003108</td>\n",
              "    </tr>\n",
              "  </tbody>\n",
              "</table>\n",
              "</div>"
            ],
            "text/plain": [
              "                           current_annual_salary  ...  notice_period_in_days\n",
              "current_annual_salary                   1.000184  ...               0.000161\n",
              "total_experience_in_years               0.013538  ...              -0.055835\n",
              "notice_period_in_days                   0.000161  ...               1.003108\n",
              "\n",
              "[3 rows x 3 columns]"
            ]
          },
          "metadata": {
            "tags": []
          },
          "execution_count": 28
        }
      ]
    },
    {
      "cell_type": "markdown",
      "metadata": {
        "id": "5WgvsfzwPPnf",
        "colab_type": "text"
      },
      "source": [
        "It is clear that now the variance inflation factor is within range"
      ]
    },
    {
      "cell_type": "code",
      "metadata": {
        "id": "IoFpTte4ry2h",
        "colab_type": "code",
        "colab": {}
      },
      "source": [
        "# Dropping the Current Industry column\n",
        "\n",
        "df.drop('current_industry', inplace= True, axis=1)"
      ],
      "execution_count": 0,
      "outputs": []
    },
    {
      "cell_type": "markdown",
      "metadata": {
        "id": "xWKPHom4Ph1A",
        "colab_type": "text"
      },
      "source": [
        "# Explorative Data Analysis"
      ]
    },
    {
      "cell_type": "code",
      "metadata": {
        "id": "aQ1_oO2gOgd3",
        "colab_type": "code",
        "outputId": "2af6f578-3879-4e69-866f-d7d93e32e414",
        "colab": {
          "base_uri": "https://localhost:8080/",
          "height": 204
        }
      },
      "source": [
        "#Creating a dataferame with the relevant columns\n",
        "\n",
        "new=  df[['candidate_id','current_fuction','current_job_title','total_experience_in_years','data_source']]\n",
        "data= pd.DataFrame(new)\n",
        "data.head()"
      ],
      "execution_count": 30,
      "outputs": [
        {
          "output_type": "execute_result",
          "data": {
            "text/html": [
              "<div>\n",
              "<style scoped>\n",
              "    .dataframe tbody tr th:only-of-type {\n",
              "        vertical-align: middle;\n",
              "    }\n",
              "\n",
              "    .dataframe tbody tr th {\n",
              "        vertical-align: top;\n",
              "    }\n",
              "\n",
              "    .dataframe thead th {\n",
              "        text-align: right;\n",
              "    }\n",
              "</style>\n",
              "<table border=\"1\" class=\"dataframe\">\n",
              "  <thead>\n",
              "    <tr style=\"text-align: right;\">\n",
              "      <th></th>\n",
              "      <th>candidate_id</th>\n",
              "      <th>current_fuction</th>\n",
              "      <th>current_job_title</th>\n",
              "      <th>total_experience_in_years</th>\n",
              "      <th>data_source</th>\n",
              "    </tr>\n",
              "  </thead>\n",
              "  <tbody>\n",
              "    <tr>\n",
              "      <th>0</th>\n",
              "      <td>A13380</td>\n",
              "      <td>IT Software</td>\n",
              "      <td>Team Manager Insurance</td>\n",
              "      <td>9.00</td>\n",
              "      <td>INDEED.COM</td>\n",
              "    </tr>\n",
              "    <tr>\n",
              "      <th>1</th>\n",
              "      <td>A9339</td>\n",
              "      <td>Business Development#Manufacturing#Project Man...</td>\n",
              "      <td>Marketing Executive</td>\n",
              "      <td>3.00</td>\n",
              "      <td>INTERNAL DATABASE</td>\n",
              "    </tr>\n",
              "    <tr>\n",
              "      <th>2</th>\n",
              "      <td>A10220</td>\n",
              "      <td>IT Software</td>\n",
              "      <td>Software Developer</td>\n",
              "      <td>0.70</td>\n",
              "      <td>INTERNAL DATABASE</td>\n",
              "    </tr>\n",
              "    <tr>\n",
              "      <th>3</th>\n",
              "      <td>A8162</td>\n",
              "      <td>Business Development, IT Software</td>\n",
              "      <td>Senior systems engineer</td>\n",
              "      <td>3.84</td>\n",
              "      <td>LINKEDIN</td>\n",
              "    </tr>\n",
              "    <tr>\n",
              "      <th>4</th>\n",
              "      <td>A13729</td>\n",
              "      <td>IT Software#Research</td>\n",
              "      <td>Software Developer</td>\n",
              "      <td>2.50</td>\n",
              "      <td>LINKEDIN</td>\n",
              "    </tr>\n",
              "  </tbody>\n",
              "</table>\n",
              "</div>"
            ],
            "text/plain": [
              "  candidate_id  ...        data_source\n",
              "0       A13380  ...         INDEED.COM\n",
              "1        A9339  ...  INTERNAL DATABASE\n",
              "2       A10220  ...  INTERNAL DATABASE\n",
              "3        A8162  ...           LINKEDIN\n",
              "4       A13729  ...           LINKEDIN\n",
              "\n",
              "[5 rows x 5 columns]"
            ]
          },
          "metadata": {
            "tags": []
          },
          "execution_count": 30
        }
      ]
    },
    {
      "cell_type": "code",
      "metadata": {
        "id": "T35etPOWOga_",
        "colab_type": "code",
        "outputId": "de9e517a-8f14-446c-c9c4-a846b4c4b971",
        "colab": {
          "base_uri": "https://localhost:8080/",
          "height": 428
        }
      },
      "source": [
        "# Previewing the job dataset\n",
        "\n",
        "job"
      ],
      "execution_count": 31,
      "outputs": [
        {
          "output_type": "execute_result",
          "data": {
            "text/html": [
              "<div>\n",
              "<style scoped>\n",
              "    .dataframe tbody tr th:only-of-type {\n",
              "        vertical-align: middle;\n",
              "    }\n",
              "\n",
              "    .dataframe tbody tr th {\n",
              "        vertical-align: top;\n",
              "    }\n",
              "\n",
              "    .dataframe thead th {\n",
              "        text-align: right;\n",
              "    }\n",
              "</style>\n",
              "<table border=\"1\" class=\"dataframe\">\n",
              "  <thead>\n",
              "    <tr style=\"text-align: right;\">\n",
              "      <th></th>\n",
              "      <th>Job Id</th>\n",
              "      <th>Job Title</th>\n",
              "      <th>Keywords</th>\n",
              "      <th>Minimum Experience in years</th>\n",
              "      <th>Maximum Experience in Years</th>\n",
              "      <th>Minimum Annual Salary</th>\n",
              "      <th>Maximum Annual Salary</th>\n",
              "      <th>Currency</th>\n",
              "      <th>Must Haves</th>\n",
              "      <th>Company Name</th>\n",
              "      <th>Founded Year</th>\n",
              "      <th>Employee Count</th>\n",
              "      <th>Job Location</th>\n",
              "      <th>Industry</th>\n",
              "      <th>Function</th>\n",
              "      <th>Required Education (UG)</th>\n",
              "      <th>Required Education (PG)</th>\n",
              "      <th>Notice Period (Days)</th>\n",
              "    </tr>\n",
              "  </thead>\n",
              "  <tbody>\n",
              "    <tr>\n",
              "      <th>0</th>\n",
              "      <td>194</td>\n",
              "      <td>Full stack engineer</td>\n",
              "      <td>java,Angular,Jquery,j2ee,microservices,micro s...</td>\n",
              "      <td>2</td>\n",
              "      <td>5</td>\n",
              "      <td>6</td>\n",
              "      <td>15</td>\n",
              "      <td>INR</td>\n",
              "      <td>NaN</td>\n",
              "      <td>Company X</td>\n",
              "      <td>2011</td>\n",
              "      <td>362</td>\n",
              "      <td>Hyderabad</td>\n",
              "      <td>IT | Computer Software</td>\n",
              "      <td>IT Software</td>\n",
              "      <td>B.Tech/B.E.</td>\n",
              "      <td>NaN</td>\n",
              "      <td>60</td>\n",
              "    </tr>\n",
              "    <tr>\n",
              "      <th>1</th>\n",
              "      <td>481</td>\n",
              "      <td>Senior Java Engineer/Tech Lead</td>\n",
              "      <td>J2EE,Java,Hibernate,Webervices,REST Services,S...</td>\n",
              "      <td>7</td>\n",
              "      <td>10</td>\n",
              "      <td>10</td>\n",
              "      <td>15</td>\n",
              "      <td>INR</td>\n",
              "      <td>Should have proficient Java server side progra...</td>\n",
              "      <td>Company X</td>\n",
              "      <td>2011</td>\n",
              "      <td>362</td>\n",
              "      <td>Hyderabad</td>\n",
              "      <td>IT | Computer Software</td>\n",
              "      <td>IT Software</td>\n",
              "      <td>Other UG</td>\n",
              "      <td>Not Required</td>\n",
              "      <td>30</td>\n",
              "    </tr>\n",
              "    <tr>\n",
              "      <th>2</th>\n",
              "      <td>839</td>\n",
              "      <td>Front End Developer</td>\n",
              "      <td>NaN</td>\n",
              "      <td>2</td>\n",
              "      <td>5</td>\n",
              "      <td>4</td>\n",
              "      <td>8</td>\n",
              "      <td>INR</td>\n",
              "      <td>The candidate must have at least 2 years of so...</td>\n",
              "      <td>Company X</td>\n",
              "      <td>2011</td>\n",
              "      <td>362</td>\n",
              "      <td>Bengaluru/Bangalore</td>\n",
              "      <td>IT | Information Technology and Services</td>\n",
              "      <td>IT Software</td>\n",
              "      <td>Undergraduate (engineering)</td>\n",
              "      <td>NaN</td>\n",
              "      <td>30</td>\n",
              "    </tr>\n",
              "    <tr>\n",
              "      <th>3</th>\n",
              "      <td>723</td>\n",
              "      <td>Application Developer</td>\n",
              "      <td>c#, asp.net, sql, java, html5</td>\n",
              "      <td>3</td>\n",
              "      <td>8</td>\n",
              "      <td>4</td>\n",
              "      <td>9</td>\n",
              "      <td>INR</td>\n",
              "      <td>The Application Developer is a role within the...</td>\n",
              "      <td>Company X</td>\n",
              "      <td>2011</td>\n",
              "      <td>362</td>\n",
              "      <td>Bengaluru</td>\n",
              "      <td>IT | Information Technology and Services</td>\n",
              "      <td>IT Software</td>\n",
              "      <td>B.Tech/B.E.</td>\n",
              "      <td>NaN</td>\n",
              "      <td>30</td>\n",
              "    </tr>\n",
              "  </tbody>\n",
              "</table>\n",
              "</div>"
            ],
            "text/plain": [
              "   Job Id  ... Notice Period (Days)\n",
              "0     194  ...                   60\n",
              "1     481  ...                   30\n",
              "2     839  ...                   30\n",
              "3     723  ...                   30\n",
              "\n",
              "[4 rows x 18 columns]"
            ]
          },
          "metadata": {
            "tags": []
          },
          "execution_count": 31
        }
      ]
    },
    {
      "cell_type": "code",
      "metadata": {
        "id": "SNWuTKc8OgYn",
        "colab_type": "code",
        "outputId": "48b53458-3b8c-4a24-915b-f7d9c57dcf48",
        "colab": {
          "base_uri": "https://localhost:8080/",
          "height": 173
        }
      },
      "source": [
        "#Creating a dataframe with relevant columns\n",
        "\n",
        "new=  job[['Job Id','Job Title','Keywords','Must Haves','Function','Minimum Experience in years','Required Education (UG)']]\n",
        "kazi= pd.DataFrame(new)\n",
        "kazi"
      ],
      "execution_count": 32,
      "outputs": [
        {
          "output_type": "execute_result",
          "data": {
            "text/html": [
              "<div>\n",
              "<style scoped>\n",
              "    .dataframe tbody tr th:only-of-type {\n",
              "        vertical-align: middle;\n",
              "    }\n",
              "\n",
              "    .dataframe tbody tr th {\n",
              "        vertical-align: top;\n",
              "    }\n",
              "\n",
              "    .dataframe thead th {\n",
              "        text-align: right;\n",
              "    }\n",
              "</style>\n",
              "<table border=\"1\" class=\"dataframe\">\n",
              "  <thead>\n",
              "    <tr style=\"text-align: right;\">\n",
              "      <th></th>\n",
              "      <th>Job Id</th>\n",
              "      <th>Job Title</th>\n",
              "      <th>Keywords</th>\n",
              "      <th>Must Haves</th>\n",
              "      <th>Function</th>\n",
              "      <th>Minimum Experience in years</th>\n",
              "      <th>Required Education (UG)</th>\n",
              "    </tr>\n",
              "  </thead>\n",
              "  <tbody>\n",
              "    <tr>\n",
              "      <th>0</th>\n",
              "      <td>194</td>\n",
              "      <td>Full stack engineer</td>\n",
              "      <td>java,Angular,Jquery,j2ee,microservices,micro s...</td>\n",
              "      <td>NaN</td>\n",
              "      <td>IT Software</td>\n",
              "      <td>2</td>\n",
              "      <td>B.Tech/B.E.</td>\n",
              "    </tr>\n",
              "    <tr>\n",
              "      <th>1</th>\n",
              "      <td>481</td>\n",
              "      <td>Senior Java Engineer/Tech Lead</td>\n",
              "      <td>J2EE,Java,Hibernate,Webervices,REST Services,S...</td>\n",
              "      <td>Should have proficient Java server side progra...</td>\n",
              "      <td>IT Software</td>\n",
              "      <td>7</td>\n",
              "      <td>Other UG</td>\n",
              "    </tr>\n",
              "    <tr>\n",
              "      <th>2</th>\n",
              "      <td>839</td>\n",
              "      <td>Front End Developer</td>\n",
              "      <td>NaN</td>\n",
              "      <td>The candidate must have at least 2 years of so...</td>\n",
              "      <td>IT Software</td>\n",
              "      <td>2</td>\n",
              "      <td>Undergraduate (engineering)</td>\n",
              "    </tr>\n",
              "    <tr>\n",
              "      <th>3</th>\n",
              "      <td>723</td>\n",
              "      <td>Application Developer</td>\n",
              "      <td>c#, asp.net, sql, java, html5</td>\n",
              "      <td>The Application Developer is a role within the...</td>\n",
              "      <td>IT Software</td>\n",
              "      <td>3</td>\n",
              "      <td>B.Tech/B.E.</td>\n",
              "    </tr>\n",
              "  </tbody>\n",
              "</table>\n",
              "</div>"
            ],
            "text/plain": [
              "   Job Id  ...      Required Education (UG)\n",
              "0     194  ...                  B.Tech/B.E.\n",
              "1     481  ...                     Other UG\n",
              "2     839  ...  Undergraduate (engineering)\n",
              "3     723  ...                  B.Tech/B.E.\n",
              "\n",
              "[4 rows x 7 columns]"
            ]
          },
          "metadata": {
            "tags": []
          },
          "execution_count": 32
        }
      ]
    },
    {
      "cell_type": "code",
      "metadata": {
        "id": "0htk0L1FlE2r",
        "colab_type": "code",
        "colab": {
          "base_uri": "https://localhost:8080/",
          "height": 68
        },
        "outputId": "4da3ebf1-3ee7-4b93-da45-8c477a2858df"
      },
      "source": [
        "# Making the columns to be uniform by removing spaces and converting it to lower\n",
        "\n",
        "kazi.columns = kazi.columns.str.lower().str.replace(' ','_')\n",
        "kazi.columns"
      ],
      "execution_count": 33,
      "outputs": [
        {
          "output_type": "execute_result",
          "data": {
            "text/plain": [
              "Index(['job_id', 'job_title', 'keywords', 'must_haves', 'function',\n",
              "       'minimum_experience_in_years', 'required_education_(ug)'],\n",
              "      dtype='object')"
            ]
          },
          "metadata": {
            "tags": []
          },
          "execution_count": 33
        }
      ]
    },
    {
      "cell_type": "code",
      "metadata": {
        "id": "yDsG6DbQOgWa",
        "colab_type": "code",
        "outputId": "3de5a896-05c1-4ba7-d8eb-bd0396517e48",
        "colab": {
          "base_uri": "https://localhost:8080/",
          "height": 204
        }
      },
      "source": [
        "# Previewing the data dataset\n",
        "\n",
        "data.head()"
      ],
      "execution_count": 34,
      "outputs": [
        {
          "output_type": "execute_result",
          "data": {
            "text/html": [
              "<div>\n",
              "<style scoped>\n",
              "    .dataframe tbody tr th:only-of-type {\n",
              "        vertical-align: middle;\n",
              "    }\n",
              "\n",
              "    .dataframe tbody tr th {\n",
              "        vertical-align: top;\n",
              "    }\n",
              "\n",
              "    .dataframe thead th {\n",
              "        text-align: right;\n",
              "    }\n",
              "</style>\n",
              "<table border=\"1\" class=\"dataframe\">\n",
              "  <thead>\n",
              "    <tr style=\"text-align: right;\">\n",
              "      <th></th>\n",
              "      <th>candidate_id</th>\n",
              "      <th>current_fuction</th>\n",
              "      <th>current_job_title</th>\n",
              "      <th>total_experience_in_years</th>\n",
              "      <th>data_source</th>\n",
              "    </tr>\n",
              "  </thead>\n",
              "  <tbody>\n",
              "    <tr>\n",
              "      <th>0</th>\n",
              "      <td>A13380</td>\n",
              "      <td>IT Software</td>\n",
              "      <td>Team Manager Insurance</td>\n",
              "      <td>9.00</td>\n",
              "      <td>INDEED.COM</td>\n",
              "    </tr>\n",
              "    <tr>\n",
              "      <th>1</th>\n",
              "      <td>A9339</td>\n",
              "      <td>Business Development#Manufacturing#Project Man...</td>\n",
              "      <td>Marketing Executive</td>\n",
              "      <td>3.00</td>\n",
              "      <td>INTERNAL DATABASE</td>\n",
              "    </tr>\n",
              "    <tr>\n",
              "      <th>2</th>\n",
              "      <td>A10220</td>\n",
              "      <td>IT Software</td>\n",
              "      <td>Software Developer</td>\n",
              "      <td>0.70</td>\n",
              "      <td>INTERNAL DATABASE</td>\n",
              "    </tr>\n",
              "    <tr>\n",
              "      <th>3</th>\n",
              "      <td>A8162</td>\n",
              "      <td>Business Development, IT Software</td>\n",
              "      <td>Senior systems engineer</td>\n",
              "      <td>3.84</td>\n",
              "      <td>LINKEDIN</td>\n",
              "    </tr>\n",
              "    <tr>\n",
              "      <th>4</th>\n",
              "      <td>A13729</td>\n",
              "      <td>IT Software#Research</td>\n",
              "      <td>Software Developer</td>\n",
              "      <td>2.50</td>\n",
              "      <td>LINKEDIN</td>\n",
              "    </tr>\n",
              "  </tbody>\n",
              "</table>\n",
              "</div>"
            ],
            "text/plain": [
              "  candidate_id  ...        data_source\n",
              "0       A13380  ...         INDEED.COM\n",
              "1        A9339  ...  INTERNAL DATABASE\n",
              "2       A10220  ...  INTERNAL DATABASE\n",
              "3        A8162  ...           LINKEDIN\n",
              "4       A13729  ...           LINKEDIN\n",
              "\n",
              "[5 rows x 5 columns]"
            ]
          },
          "metadata": {
            "tags": []
          },
          "execution_count": 34
        }
      ]
    },
    {
      "cell_type": "markdown",
      "metadata": {
        "id": "4l_d99daehfW",
        "colab_type": "text"
      },
      "source": [
        "# WORKING ON THE KAZI DATASET\n",
        "\n",
        "\n",
        "*   Impute missing values if any\n",
        "*   Remove stop words\n",
        "\n",
        "*   Remove not alphanumeric characters\n",
        "*   Lemmatize the columns\n",
        "\n",
        "* \n",
        "Finally we will merge all the columns in order to create a corpus of text for each job\n",
        "\n",
        "\n",
        "\n",
        "\n",
        "\n",
        "\n",
        "\n",
        "\n",
        "\n",
        "\n",
        " "
      ]
    },
    {
      "cell_type": "code",
      "metadata": {
        "id": "gKPrRh1uDb8z",
        "colab_type": "code",
        "colab": {
          "base_uri": "https://localhost:8080/",
          "height": 153
        },
        "outputId": "19f01015-11c2-44a2-bbc9-93b7e44229b3"
      },
      "source": [
        "#Missing values in kazi\n",
        "\n",
        "kazi.isnull().sum()"
      ],
      "execution_count": 35,
      "outputs": [
        {
          "output_type": "execute_result",
          "data": {
            "text/plain": [
              "job_id                         0\n",
              "job_title                      0\n",
              "keywords                       1\n",
              "must_haves                     1\n",
              "function                       0\n",
              "minimum_experience_in_years    0\n",
              "required_education_(ug)        0\n",
              "dtype: int64"
            ]
          },
          "metadata": {
            "tags": []
          },
          "execution_count": 35
        }
      ]
    },
    {
      "cell_type": "code",
      "metadata": {
        "id": "bU6z3UqrD-Db",
        "colab_type": "code",
        "colab": {
          "base_uri": "https://localhost:8080/",
          "height": 173
        },
        "outputId": "cf924bbe-6bab-4d0a-9aab-d3d78dceb2dc"
      },
      "source": [
        "#Fill in Front end Developer with skills from the internet\n",
        "\n",
        "kazi['keywords'].fillna(\"HTML (XHTML, HTML4, HTML5), JavaScript / Ajax,jQuery,CSS Grids,Web Components, Shadow DOM, Polymer\", inplace = True)\n",
        "kazi"
      ],
      "execution_count": 36,
      "outputs": [
        {
          "output_type": "execute_result",
          "data": {
            "text/html": [
              "<div>\n",
              "<style scoped>\n",
              "    .dataframe tbody tr th:only-of-type {\n",
              "        vertical-align: middle;\n",
              "    }\n",
              "\n",
              "    .dataframe tbody tr th {\n",
              "        vertical-align: top;\n",
              "    }\n",
              "\n",
              "    .dataframe thead th {\n",
              "        text-align: right;\n",
              "    }\n",
              "</style>\n",
              "<table border=\"1\" class=\"dataframe\">\n",
              "  <thead>\n",
              "    <tr style=\"text-align: right;\">\n",
              "      <th></th>\n",
              "      <th>job_id</th>\n",
              "      <th>job_title</th>\n",
              "      <th>keywords</th>\n",
              "      <th>must_haves</th>\n",
              "      <th>function</th>\n",
              "      <th>minimum_experience_in_years</th>\n",
              "      <th>required_education_(ug)</th>\n",
              "    </tr>\n",
              "  </thead>\n",
              "  <tbody>\n",
              "    <tr>\n",
              "      <th>0</th>\n",
              "      <td>194</td>\n",
              "      <td>Full stack engineer</td>\n",
              "      <td>java,Angular,Jquery,j2ee,microservices,micro s...</td>\n",
              "      <td>NaN</td>\n",
              "      <td>IT Software</td>\n",
              "      <td>2</td>\n",
              "      <td>B.Tech/B.E.</td>\n",
              "    </tr>\n",
              "    <tr>\n",
              "      <th>1</th>\n",
              "      <td>481</td>\n",
              "      <td>Senior Java Engineer/Tech Lead</td>\n",
              "      <td>J2EE,Java,Hibernate,Webervices,REST Services,S...</td>\n",
              "      <td>Should have proficient Java server side progra...</td>\n",
              "      <td>IT Software</td>\n",
              "      <td>7</td>\n",
              "      <td>Other UG</td>\n",
              "    </tr>\n",
              "    <tr>\n",
              "      <th>2</th>\n",
              "      <td>839</td>\n",
              "      <td>Front End Developer</td>\n",
              "      <td>HTML (XHTML, HTML4, HTML5), JavaScript / Ajax,...</td>\n",
              "      <td>The candidate must have at least 2 years of so...</td>\n",
              "      <td>IT Software</td>\n",
              "      <td>2</td>\n",
              "      <td>Undergraduate (engineering)</td>\n",
              "    </tr>\n",
              "    <tr>\n",
              "      <th>3</th>\n",
              "      <td>723</td>\n",
              "      <td>Application Developer</td>\n",
              "      <td>c#, asp.net, sql, java, html5</td>\n",
              "      <td>The Application Developer is a role within the...</td>\n",
              "      <td>IT Software</td>\n",
              "      <td>3</td>\n",
              "      <td>B.Tech/B.E.</td>\n",
              "    </tr>\n",
              "  </tbody>\n",
              "</table>\n",
              "</div>"
            ],
            "text/plain": [
              "   job_id  ...      required_education_(ug)\n",
              "0     194  ...                  B.Tech/B.E.\n",
              "1     481  ...                     Other UG\n",
              "2     839  ...  Undergraduate (engineering)\n",
              "3     723  ...                  B.Tech/B.E.\n",
              "\n",
              "[4 rows x 7 columns]"
            ]
          },
          "metadata": {
            "tags": []
          },
          "execution_count": 36
        }
      ]
    },
    {
      "cell_type": "code",
      "metadata": {
        "id": "gmG6apFGGIBu",
        "colab_type": "code",
        "colab": {
          "base_uri": "https://localhost:8080/",
          "height": 173
        },
        "outputId": "00a5f3e7-c055-4716-a60b-97ca5c49e374"
      },
      "source": [
        "#Fill in must haves of a front end developer\n",
        "\n",
        "kazi['must_haves'].fillna(\"IT Software, Version control/git, CSS Preprocessing,B.Tech/B.E. IT\", inplace= True)\n",
        "kazi"
      ],
      "execution_count": 37,
      "outputs": [
        {
          "output_type": "execute_result",
          "data": {
            "text/html": [
              "<div>\n",
              "<style scoped>\n",
              "    .dataframe tbody tr th:only-of-type {\n",
              "        vertical-align: middle;\n",
              "    }\n",
              "\n",
              "    .dataframe tbody tr th {\n",
              "        vertical-align: top;\n",
              "    }\n",
              "\n",
              "    .dataframe thead th {\n",
              "        text-align: right;\n",
              "    }\n",
              "</style>\n",
              "<table border=\"1\" class=\"dataframe\">\n",
              "  <thead>\n",
              "    <tr style=\"text-align: right;\">\n",
              "      <th></th>\n",
              "      <th>job_id</th>\n",
              "      <th>job_title</th>\n",
              "      <th>keywords</th>\n",
              "      <th>must_haves</th>\n",
              "      <th>function</th>\n",
              "      <th>minimum_experience_in_years</th>\n",
              "      <th>required_education_(ug)</th>\n",
              "    </tr>\n",
              "  </thead>\n",
              "  <tbody>\n",
              "    <tr>\n",
              "      <th>0</th>\n",
              "      <td>194</td>\n",
              "      <td>Full stack engineer</td>\n",
              "      <td>java,Angular,Jquery,j2ee,microservices,micro s...</td>\n",
              "      <td>IT Software, Version control/git, CSS Preproce...</td>\n",
              "      <td>IT Software</td>\n",
              "      <td>2</td>\n",
              "      <td>B.Tech/B.E.</td>\n",
              "    </tr>\n",
              "    <tr>\n",
              "      <th>1</th>\n",
              "      <td>481</td>\n",
              "      <td>Senior Java Engineer/Tech Lead</td>\n",
              "      <td>J2EE,Java,Hibernate,Webervices,REST Services,S...</td>\n",
              "      <td>Should have proficient Java server side progra...</td>\n",
              "      <td>IT Software</td>\n",
              "      <td>7</td>\n",
              "      <td>Other UG</td>\n",
              "    </tr>\n",
              "    <tr>\n",
              "      <th>2</th>\n",
              "      <td>839</td>\n",
              "      <td>Front End Developer</td>\n",
              "      <td>HTML (XHTML, HTML4, HTML5), JavaScript / Ajax,...</td>\n",
              "      <td>The candidate must have at least 2 years of so...</td>\n",
              "      <td>IT Software</td>\n",
              "      <td>2</td>\n",
              "      <td>Undergraduate (engineering)</td>\n",
              "    </tr>\n",
              "    <tr>\n",
              "      <th>3</th>\n",
              "      <td>723</td>\n",
              "      <td>Application Developer</td>\n",
              "      <td>c#, asp.net, sql, java, html5</td>\n",
              "      <td>The Application Developer is a role within the...</td>\n",
              "      <td>IT Software</td>\n",
              "      <td>3</td>\n",
              "      <td>B.Tech/B.E.</td>\n",
              "    </tr>\n",
              "  </tbody>\n",
              "</table>\n",
              "</div>"
            ],
            "text/plain": [
              "   job_id  ...      required_education_(ug)\n",
              "0     194  ...                  B.Tech/B.E.\n",
              "1     481  ...                     Other UG\n",
              "2     839  ...  Undergraduate (engineering)\n",
              "3     723  ...                  B.Tech/B.E.\n",
              "\n",
              "[4 rows x 7 columns]"
            ]
          },
          "metadata": {
            "tags": []
          },
          "execution_count": 37
        }
      ]
    },
    {
      "cell_type": "code",
      "metadata": {
        "id": "MWDvTvZFsswT",
        "colab_type": "code",
        "colab": {
          "base_uri": "https://localhost:8080/",
          "height": 173
        },
        "outputId": "26377cd5-9df7-4aa0-d40e-28143a1d599b"
      },
      "source": [
        "df_all= kazi[['job_id','job_title','keywords','must_haves']]\n",
        "df_all"
      ],
      "execution_count": 44,
      "outputs": [
        {
          "output_type": "execute_result",
          "data": {
            "text/html": [
              "<div>\n",
              "<style scoped>\n",
              "    .dataframe tbody tr th:only-of-type {\n",
              "        vertical-align: middle;\n",
              "    }\n",
              "\n",
              "    .dataframe tbody tr th {\n",
              "        vertical-align: top;\n",
              "    }\n",
              "\n",
              "    .dataframe thead th {\n",
              "        text-align: right;\n",
              "    }\n",
              "</style>\n",
              "<table border=\"1\" class=\"dataframe\">\n",
              "  <thead>\n",
              "    <tr style=\"text-align: right;\">\n",
              "      <th></th>\n",
              "      <th>job_id</th>\n",
              "      <th>job_title</th>\n",
              "      <th>keywords</th>\n",
              "      <th>must_haves</th>\n",
              "    </tr>\n",
              "  </thead>\n",
              "  <tbody>\n",
              "    <tr>\n",
              "      <th>0</th>\n",
              "      <td>194</td>\n",
              "      <td>Full stack engineer</td>\n",
              "      <td>java,Angular,Jquery,j2ee,microservices,micro s...</td>\n",
              "      <td>IT Software, Version control/git, CSS Preproce...</td>\n",
              "    </tr>\n",
              "    <tr>\n",
              "      <th>1</th>\n",
              "      <td>481</td>\n",
              "      <td>Senior Java Engineer/Tech Lead</td>\n",
              "      <td>J2EE,Java,Hibernate,Webervices,REST Services,S...</td>\n",
              "      <td>Should have proficient Java server side progra...</td>\n",
              "    </tr>\n",
              "    <tr>\n",
              "      <th>2</th>\n",
              "      <td>839</td>\n",
              "      <td>Front End Developer</td>\n",
              "      <td>HTML (XHTML, HTML4, HTML5), JavaScript / Ajax,...</td>\n",
              "      <td>The candidate must have at least 2 years of so...</td>\n",
              "    </tr>\n",
              "    <tr>\n",
              "      <th>3</th>\n",
              "      <td>723</td>\n",
              "      <td>Application Developer</td>\n",
              "      <td>c#, asp.net, sql, java, html5</td>\n",
              "      <td>The Application Developer is a role within the...</td>\n",
              "    </tr>\n",
              "  </tbody>\n",
              "</table>\n",
              "</div>"
            ],
            "text/plain": [
              "   job_id  ...                                         must_haves\n",
              "0     194  ...  IT Software, Version control/git, CSS Preproce...\n",
              "1     481  ...  Should have proficient Java server side progra...\n",
              "2     839  ...  The candidate must have at least 2 years of so...\n",
              "3     723  ...  The Application Developer is a role within the...\n",
              "\n",
              "[4 rows x 4 columns]"
            ]
          },
          "metadata": {
            "tags": []
          },
          "execution_count": 44
        }
      ]
    },
    {
      "cell_type": "code",
      "metadata": {
        "id": "h4BwUDvQmmeD",
        "colab_type": "code",
        "colab": {}
      },
      "source": [
        "#Importing nltk library\n",
        "\n",
        "import nltk"
      ],
      "execution_count": 0,
      "outputs": []
    },
    {
      "cell_type": "code",
      "metadata": {
        "id": "H0yT2gfgmJWe",
        "colab_type": "code",
        "colab": {
          "base_uri": "https://localhost:8080/",
          "height": 187
        },
        "outputId": "43de90a8-9a77-43db-ecac-00b2a323bb5e"
      },
      "source": [
        "nltk.download('punkt')\n",
        "nltk.download('stopwords')\n",
        "nltk.download('wordnet')\n",
        "nltk.download('averaged_perceptron_tagger')"
      ],
      "execution_count": 39,
      "outputs": [
        {
          "output_type": "stream",
          "text": [
            "[nltk_data] Downloading package punkt to /root/nltk_data...\n",
            "[nltk_data]   Unzipping tokenizers/punkt.zip.\n",
            "[nltk_data] Downloading package stopwords to /root/nltk_data...\n",
            "[nltk_data]   Unzipping corpora/stopwords.zip.\n",
            "[nltk_data] Downloading package wordnet to /root/nltk_data...\n",
            "[nltk_data]   Unzipping corpora/wordnet.zip.\n",
            "[nltk_data] Downloading package averaged_perceptron_tagger to\n",
            "[nltk_data]     /root/nltk_data...\n",
            "[nltk_data]   Unzipping taggers/averaged_perceptron_tagger.zip.\n"
          ],
          "name": "stdout"
        },
        {
          "output_type": "execute_result",
          "data": {
            "text/plain": [
              "True"
            ]
          },
          "metadata": {
            "tags": []
          },
          "execution_count": 39
        }
      ]
    },
    {
      "cell_type": "code",
      "metadata": {
        "id": "6ErRyv6Jm73b",
        "colab_type": "code",
        "colab": {}
      },
      "source": [
        "from nltk.corpus import stopwords\n",
        "import re\n",
        "import string\n",
        "from nltk.stem import WordNetLemmatizer\n",
        "from nltk import word_tokenize\n",
        "from nltk.corpus import stopwords\n",
        "\n",
        "stop= stopwords.words('english')\n",
        "stop_words_= set(stopwords.words('english'))\n",
        "wn= WordNetLemmatizer()"
      ],
      "execution_count": 0,
      "outputs": []
    },
    {
      "cell_type": "code",
      "metadata": {
        "id": "M6kRQ9hRnqjY",
        "colab_type": "code",
        "colab": {}
      },
      "source": [
        "def black_txt(token):\n",
        "  return token not in stop_words_ and token not in list(string.punctuation) and len(token)>2"
      ],
      "execution_count": 0,
      "outputs": []
    },
    {
      "cell_type": "code",
      "metadata": {
        "id": "d-5QKYPmjigx",
        "colab_type": "code",
        "colab": {}
      },
      "source": [
        "def clean_txt(must_haves):\n",
        "  clean_text= []\n",
        "  clean_text2= []\n",
        "  must_haves= re.sub(\"'\",\"\", must_haves)\n",
        "  must_haves= re.sub(\"(\\\\d|\\\\W)+\", \" \", must_haves)\n",
        "  clean_text=[ wn.lemmatize(word, pos='v')for word in word_tokenize(must_haves.lower()) if black_txt(word)]\n",
        "  clean_text2= [word for word in clean_text if black_txt(word)]\n",
        "  return \" \".join(clean_text2)\n"
      ],
      "execution_count": 0,
      "outputs": []
    },
    {
      "cell_type": "code",
      "metadata": {
        "id": "cZSvVxJbjibr",
        "colab_type": "code",
        "colab": {
          "base_uri": "https://localhost:8080/",
          "height": 119
        },
        "outputId": "d476e82b-eae5-4cb2-bf74-766d8cab20f7"
      },
      "source": [
        "# cleaning and previewing the corpus\n",
        "\n",
        "df_all['must_haves']= df_all['must_haves'].apply(clean_txt)\n"
      ],
      "execution_count": 45,
      "outputs": [
        {
          "output_type": "stream",
          "text": [
            "/usr/local/lib/python3.6/dist-packages/ipykernel_launcher.py:2: SettingWithCopyWarning: \n",
            "A value is trying to be set on a copy of a slice from a DataFrame.\n",
            "Try using .loc[row_indexer,col_indexer] = value instead\n",
            "\n",
            "See the caveats in the documentation: http://pandas.pydata.org/pandas-docs/stable/user_guide/indexing.html#returning-a-view-versus-a-copy\n",
            "  \n"
          ],
          "name": "stderr"
        }
      ]
    },
    {
      "cell_type": "code",
      "metadata": {
        "id": "Xok9xufeILDn",
        "colab_type": "code",
        "colab": {
          "base_uri": "https://localhost:8080/",
          "height": 173
        },
        "outputId": "3eef89db-43bd-4cd4-ccef-81085be080bb"
      },
      "source": [
        "#Preview the dataset\n",
        "\n",
        "df_all"
      ],
      "execution_count": 46,
      "outputs": [
        {
          "output_type": "execute_result",
          "data": {
            "text/html": [
              "<div>\n",
              "<style scoped>\n",
              "    .dataframe tbody tr th:only-of-type {\n",
              "        vertical-align: middle;\n",
              "    }\n",
              "\n",
              "    .dataframe tbody tr th {\n",
              "        vertical-align: top;\n",
              "    }\n",
              "\n",
              "    .dataframe thead th {\n",
              "        text-align: right;\n",
              "    }\n",
              "</style>\n",
              "<table border=\"1\" class=\"dataframe\">\n",
              "  <thead>\n",
              "    <tr style=\"text-align: right;\">\n",
              "      <th></th>\n",
              "      <th>job_id</th>\n",
              "      <th>job_title</th>\n",
              "      <th>keywords</th>\n",
              "      <th>must_haves</th>\n",
              "    </tr>\n",
              "  </thead>\n",
              "  <tbody>\n",
              "    <tr>\n",
              "      <th>0</th>\n",
              "      <td>194</td>\n",
              "      <td>Full stack engineer</td>\n",
              "      <td>java,Angular,Jquery,j2ee,microservices,micro s...</td>\n",
              "      <td>software version control git css preprocessing...</td>\n",
              "    </tr>\n",
              "    <tr>\n",
              "      <th>1</th>\n",
              "      <td>481</td>\n",
              "      <td>Senior Java Engineer/Tech Lead</td>\n",
              "      <td>J2EE,Java,Hibernate,Webervices,REST Services,S...</td>\n",
              "      <td>proficient java server side program experience...</td>\n",
              "    </tr>\n",
              "    <tr>\n",
              "      <th>2</th>\n",
              "      <td>839</td>\n",
              "      <td>Front End Developer</td>\n",
              "      <td>HTML (XHTML, HTML4, HTML5), JavaScript / Ajax,...</td>\n",
              "      <td>candidate must least years software developmen...</td>\n",
              "    </tr>\n",
              "    <tr>\n",
              "      <th>3</th>\n",
              "      <td>723</td>\n",
              "      <td>Application Developer</td>\n",
              "      <td>c#, asp.net, sql, java, html5</td>\n",
              "      <td>application developer role within technology t...</td>\n",
              "    </tr>\n",
              "  </tbody>\n",
              "</table>\n",
              "</div>"
            ],
            "text/plain": [
              "   job_id  ...                                         must_haves\n",
              "0     194  ...  software version control git css preprocessing...\n",
              "1     481  ...  proficient java server side program experience...\n",
              "2     839  ...  candidate must least years software developmen...\n",
              "3     723  ...  application developer role within technology t...\n",
              "\n",
              "[4 rows x 4 columns]"
            ]
          },
          "metadata": {
            "tags": []
          },
          "execution_count": 46
        }
      ]
    },
    {
      "cell_type": "markdown",
      "metadata": {
        "id": "5latczslosRx",
        "colab_type": "text"
      },
      "source": [
        "# TF-IDF (TERM FREQUENCY- INVERSE DOCUMENT FREQUENCY)"
      ]
    },
    {
      "cell_type": "code",
      "metadata": {
        "id": "y06IPe3eqxtW",
        "colab_type": "code",
        "colab": {}
      },
      "source": [
        "#Importing TfidfVectorizer library\n",
        "\n",
        "from sklearn.feature_extraction.text import TfidfVectorizer"
      ],
      "execution_count": 0,
      "outputs": []
    },
    {
      "cell_type": "code",
      "metadata": {
        "id": "C8Rb0PvSjiZs",
        "colab_type": "code",
        "colab": {
          "base_uri": "https://localhost:8080/",
          "height": 51
        },
        "outputId": "b3e5df10-b4de-40eb-c624-9981b2f477bd"
      },
      "source": [
        "#Initialize tfidf vectorizer\n",
        "\n",
        "tfidf_vectorizer = TfidfVectorizer()\n",
        "\n",
        "tfidf_kazi= tfidf_vectorizer.fit_transform((df_all['must_haves'])) #fitting and transforming the vector\n",
        "tfidf_kazi"
      ],
      "execution_count": 48,
      "outputs": [
        {
          "output_type": "execute_result",
          "data": {
            "text/plain": [
              "<4x282 sparse matrix of type '<class 'numpy.float64'>'\n",
              "\twith 296 stored elements in Compressed Sparse Row format>"
            ]
          },
          "metadata": {
            "tags": []
          },
          "execution_count": 48
        }
      ]
    },
    {
      "cell_type": "markdown",
      "metadata": {
        "id": "wDWRcntbrMz_",
        "colab_type": "text"
      },
      "source": [
        "# CREATING APPLICANTS CORPUS"
      ]
    },
    {
      "cell_type": "code",
      "metadata": {
        "id": "xvS8oam8jiU0",
        "colab_type": "code",
        "colab": {
          "base_uri": "https://localhost:8080/",
          "height": 204
        },
        "outputId": "efde183f-e2ca-4219-a9f5-af436124f20e"
      },
      "source": [
        "#Previewing data\n",
        "\n",
        "data.head()"
      ],
      "execution_count": 49,
      "outputs": [
        {
          "output_type": "execute_result",
          "data": {
            "text/html": [
              "<div>\n",
              "<style scoped>\n",
              "    .dataframe tbody tr th:only-of-type {\n",
              "        vertical-align: middle;\n",
              "    }\n",
              "\n",
              "    .dataframe tbody tr th {\n",
              "        vertical-align: top;\n",
              "    }\n",
              "\n",
              "    .dataframe thead th {\n",
              "        text-align: right;\n",
              "    }\n",
              "</style>\n",
              "<table border=\"1\" class=\"dataframe\">\n",
              "  <thead>\n",
              "    <tr style=\"text-align: right;\">\n",
              "      <th></th>\n",
              "      <th>candidate_id</th>\n",
              "      <th>current_fuction</th>\n",
              "      <th>current_job_title</th>\n",
              "      <th>total_experience_in_years</th>\n",
              "      <th>data_source</th>\n",
              "    </tr>\n",
              "  </thead>\n",
              "  <tbody>\n",
              "    <tr>\n",
              "      <th>0</th>\n",
              "      <td>A13380</td>\n",
              "      <td>IT Software</td>\n",
              "      <td>Team Manager Insurance</td>\n",
              "      <td>9.00</td>\n",
              "      <td>INDEED.COM</td>\n",
              "    </tr>\n",
              "    <tr>\n",
              "      <th>1</th>\n",
              "      <td>A9339</td>\n",
              "      <td>Business Development#Manufacturing#Project Man...</td>\n",
              "      <td>Marketing Executive</td>\n",
              "      <td>3.00</td>\n",
              "      <td>INTERNAL DATABASE</td>\n",
              "    </tr>\n",
              "    <tr>\n",
              "      <th>2</th>\n",
              "      <td>A10220</td>\n",
              "      <td>IT Software</td>\n",
              "      <td>Software Developer</td>\n",
              "      <td>0.70</td>\n",
              "      <td>INTERNAL DATABASE</td>\n",
              "    </tr>\n",
              "    <tr>\n",
              "      <th>3</th>\n",
              "      <td>A8162</td>\n",
              "      <td>Business Development, IT Software</td>\n",
              "      <td>Senior systems engineer</td>\n",
              "      <td>3.84</td>\n",
              "      <td>LINKEDIN</td>\n",
              "    </tr>\n",
              "    <tr>\n",
              "      <th>4</th>\n",
              "      <td>A13729</td>\n",
              "      <td>IT Software#Research</td>\n",
              "      <td>Software Developer</td>\n",
              "      <td>2.50</td>\n",
              "      <td>LINKEDIN</td>\n",
              "    </tr>\n",
              "  </tbody>\n",
              "</table>\n",
              "</div>"
            ],
            "text/plain": [
              "  candidate_id  ...        data_source\n",
              "0       A13380  ...         INDEED.COM\n",
              "1        A9339  ...  INTERNAL DATABASE\n",
              "2       A10220  ...  INTERNAL DATABASE\n",
              "3        A8162  ...           LINKEDIN\n",
              "4       A13729  ...           LINKEDIN\n",
              "\n",
              "[5 rows x 5 columns]"
            ]
          },
          "metadata": {
            "tags": []
          },
          "execution_count": 49
        }
      ]
    },
    {
      "cell_type": "code",
      "metadata": {
        "id": "t0EMGjycjiS9",
        "colab_type": "code",
        "colab": {
          "base_uri": "https://localhost:8080/",
          "height": 306
        },
        "outputId": "9df45851-af51-4c65-df49-b558700faafd"
      },
      "source": [
        "#Taking only current job title\n",
        "\n",
        "experience= data[['candidate_id','current_fuction']]\n",
        "\n",
        "#Cleaning the text\n",
        "experience['current_funtion']= experience['candidate_id'].map(str).apply(clean_txt)\n",
        "experience.head()"
      ],
      "execution_count": 50,
      "outputs": [
        {
          "output_type": "stream",
          "text": [
            "/usr/local/lib/python3.6/dist-packages/ipykernel_launcher.py:5: SettingWithCopyWarning: \n",
            "A value is trying to be set on a copy of a slice from a DataFrame.\n",
            "Try using .loc[row_indexer,col_indexer] = value instead\n",
            "\n",
            "See the caveats in the documentation: http://pandas.pydata.org/pandas-docs/stable/user_guide/indexing.html#returning-a-view-versus-a-copy\n",
            "  \"\"\"\n"
          ],
          "name": "stderr"
        },
        {
          "output_type": "execute_result",
          "data": {
            "text/html": [
              "<div>\n",
              "<style scoped>\n",
              "    .dataframe tbody tr th:only-of-type {\n",
              "        vertical-align: middle;\n",
              "    }\n",
              "\n",
              "    .dataframe tbody tr th {\n",
              "        vertical-align: top;\n",
              "    }\n",
              "\n",
              "    .dataframe thead th {\n",
              "        text-align: right;\n",
              "    }\n",
              "</style>\n",
              "<table border=\"1\" class=\"dataframe\">\n",
              "  <thead>\n",
              "    <tr style=\"text-align: right;\">\n",
              "      <th></th>\n",
              "      <th>candidate_id</th>\n",
              "      <th>current_fuction</th>\n",
              "      <th>current_funtion</th>\n",
              "    </tr>\n",
              "  </thead>\n",
              "  <tbody>\n",
              "    <tr>\n",
              "      <th>0</th>\n",
              "      <td>A13380</td>\n",
              "      <td>IT Software</td>\n",
              "      <td></td>\n",
              "    </tr>\n",
              "    <tr>\n",
              "      <th>1</th>\n",
              "      <td>A9339</td>\n",
              "      <td>Business Development#Manufacturing#Project Man...</td>\n",
              "      <td></td>\n",
              "    </tr>\n",
              "    <tr>\n",
              "      <th>2</th>\n",
              "      <td>A10220</td>\n",
              "      <td>IT Software</td>\n",
              "      <td></td>\n",
              "    </tr>\n",
              "    <tr>\n",
              "      <th>3</th>\n",
              "      <td>A8162</td>\n",
              "      <td>Business Development, IT Software</td>\n",
              "      <td></td>\n",
              "    </tr>\n",
              "    <tr>\n",
              "      <th>4</th>\n",
              "      <td>A13729</td>\n",
              "      <td>IT Software#Research</td>\n",
              "      <td></td>\n",
              "    </tr>\n",
              "  </tbody>\n",
              "</table>\n",
              "</div>"
            ],
            "text/plain": [
              "  candidate_id  ... current_funtion\n",
              "0       A13380  ...                \n",
              "1        A9339  ...                \n",
              "2       A10220  ...                \n",
              "3        A8162  ...                \n",
              "4       A13729  ...                \n",
              "\n",
              "[5 rows x 3 columns]"
            ]
          },
          "metadata": {
            "tags": []
          },
          "execution_count": 50
        }
      ]
    },
    {
      "cell_type": "code",
      "metadata": {
        "id": "C4JtrmxpjiFE",
        "colab_type": "code",
        "colab": {
          "base_uri": "https://localhost:8080/",
          "height": 204
        },
        "outputId": "36c8c36d-980b-48d6-cf4a-6691e8473ed5"
      },
      "source": [
        "experience= experience.sort_values(by ='candidate_id')\n",
        "experience= experience.fillna(\" \")\n",
        "experience.head()"
      ],
      "execution_count": 51,
      "outputs": [
        {
          "output_type": "execute_result",
          "data": {
            "text/html": [
              "<div>\n",
              "<style scoped>\n",
              "    .dataframe tbody tr th:only-of-type {\n",
              "        vertical-align: middle;\n",
              "    }\n",
              "\n",
              "    .dataframe tbody tr th {\n",
              "        vertical-align: top;\n",
              "    }\n",
              "\n",
              "    .dataframe thead th {\n",
              "        text-align: right;\n",
              "    }\n",
              "</style>\n",
              "<table border=\"1\" class=\"dataframe\">\n",
              "  <thead>\n",
              "    <tr style=\"text-align: right;\">\n",
              "      <th></th>\n",
              "      <th>candidate_id</th>\n",
              "      <th>current_fuction</th>\n",
              "      <th>current_funtion</th>\n",
              "    </tr>\n",
              "  </thead>\n",
              "  <tbody>\n",
              "    <tr>\n",
              "      <th>641</th>\n",
              "      <td>A10000</td>\n",
              "      <td>Financial Services, Banking, Investments, Insu...</td>\n",
              "      <td></td>\n",
              "    </tr>\n",
              "    <tr>\n",
              "      <th>1011</th>\n",
              "      <td>A10001</td>\n",
              "      <td>Finance, Accounts#Financial Services, Banking,...</td>\n",
              "      <td></td>\n",
              "    </tr>\n",
              "    <tr>\n",
              "      <th>4559</th>\n",
              "      <td>A10002</td>\n",
              "      <td>Financial Services, Banking, Investments, Insu...</td>\n",
              "      <td></td>\n",
              "    </tr>\n",
              "    <tr>\n",
              "      <th>3559</th>\n",
              "      <td>A10003</td>\n",
              "      <td>Consulting#Program Management#Project Sales</td>\n",
              "      <td></td>\n",
              "    </tr>\n",
              "    <tr>\n",
              "      <th>4032</th>\n",
              "      <td>A10004</td>\n",
              "      <td>Project Management</td>\n",
              "      <td></td>\n",
              "    </tr>\n",
              "  </tbody>\n",
              "</table>\n",
              "</div>"
            ],
            "text/plain": [
              "     candidate_id  ... current_funtion\n",
              "641        A10000  ...                \n",
              "1011       A10001  ...                \n",
              "4559       A10002  ...                \n",
              "3559       A10003  ...                \n",
              "4032       A10004  ...                \n",
              "\n",
              "[5 rows x 3 columns]"
            ]
          },
          "metadata": {
            "tags": []
          },
          "execution_count": 51
        }
      ]
    },
    {
      "cell_type": "code",
      "metadata": {
        "id": "49Oqffu8LPTb",
        "colab_type": "code",
        "colab": {
          "base_uri": "https://localhost:8080/",
          "height": 204
        },
        "outputId": "6bcc0ebc-7288-4d4f-d1ac-b4a873932bee"
      },
      "source": [
        "experience['current_fuction']= experience['current_fuction'].apply(clean_txt)\n",
        "experience.head()"
      ],
      "execution_count": 52,
      "outputs": [
        {
          "output_type": "execute_result",
          "data": {
            "text/html": [
              "<div>\n",
              "<style scoped>\n",
              "    .dataframe tbody tr th:only-of-type {\n",
              "        vertical-align: middle;\n",
              "    }\n",
              "\n",
              "    .dataframe tbody tr th {\n",
              "        vertical-align: top;\n",
              "    }\n",
              "\n",
              "    .dataframe thead th {\n",
              "        text-align: right;\n",
              "    }\n",
              "</style>\n",
              "<table border=\"1\" class=\"dataframe\">\n",
              "  <thead>\n",
              "    <tr style=\"text-align: right;\">\n",
              "      <th></th>\n",
              "      <th>candidate_id</th>\n",
              "      <th>current_fuction</th>\n",
              "      <th>current_funtion</th>\n",
              "    </tr>\n",
              "  </thead>\n",
              "  <tbody>\n",
              "    <tr>\n",
              "      <th>641</th>\n",
              "      <td>A10000</td>\n",
              "      <td>financial service bank investments insurance s...</td>\n",
              "      <td></td>\n",
              "    </tr>\n",
              "    <tr>\n",
              "      <th>1011</th>\n",
              "      <td>A10001</td>\n",
              "      <td>finance account financial service bank investm...</td>\n",
              "      <td></td>\n",
              "    </tr>\n",
              "    <tr>\n",
              "      <th>4559</th>\n",
              "      <td>A10002</td>\n",
              "      <td>financial service bank investments insurance s...</td>\n",
              "      <td></td>\n",
              "    </tr>\n",
              "    <tr>\n",
              "      <th>3559</th>\n",
              "      <td>A10003</td>\n",
              "      <td>consult program management project sales</td>\n",
              "      <td></td>\n",
              "    </tr>\n",
              "    <tr>\n",
              "      <th>4032</th>\n",
              "      <td>A10004</td>\n",
              "      <td>project management</td>\n",
              "      <td></td>\n",
              "    </tr>\n",
              "  </tbody>\n",
              "</table>\n",
              "</div>"
            ],
            "text/plain": [
              "     candidate_id  ... current_funtion\n",
              "641        A10000  ...                \n",
              "1011       A10001  ...                \n",
              "4559       A10002  ...                \n",
              "3559       A10003  ...                \n",
              "4032       A10004  ...                \n",
              "\n",
              "[5 rows x 3 columns]"
            ]
          },
          "metadata": {
            "tags": []
          },
          "execution_count": 52
        }
      ]
    },
    {
      "cell_type": "markdown",
      "metadata": {
        "id": "hu1nwZ8qM5J0",
        "colab_type": "text"
      },
      "source": [
        "TEST THE RECOMMENDER WE SELECT USER A10003"
      ]
    },
    {
      "cell_type": "code",
      "metadata": {
        "id": "MXWUBHjfjiBy",
        "colab_type": "code",
        "colab": {
          "base_uri": "https://localhost:8080/",
          "height": 80
        },
        "outputId": "32805072-657a-4f34-86f9-67dd5fb98841"
      },
      "source": [
        "u= 'A10003'\n",
        "index= np.where(experience['candidate_id']==u)[0][0]\n",
        "user_q= experience.iloc[[index]]\n",
        "user_q"
      ],
      "execution_count": 53,
      "outputs": [
        {
          "output_type": "execute_result",
          "data": {
            "text/html": [
              "<div>\n",
              "<style scoped>\n",
              "    .dataframe tbody tr th:only-of-type {\n",
              "        vertical-align: middle;\n",
              "    }\n",
              "\n",
              "    .dataframe tbody tr th {\n",
              "        vertical-align: top;\n",
              "    }\n",
              "\n",
              "    .dataframe thead th {\n",
              "        text-align: right;\n",
              "    }\n",
              "</style>\n",
              "<table border=\"1\" class=\"dataframe\">\n",
              "  <thead>\n",
              "    <tr style=\"text-align: right;\">\n",
              "      <th></th>\n",
              "      <th>candidate_id</th>\n",
              "      <th>current_fuction</th>\n",
              "      <th>current_funtion</th>\n",
              "    </tr>\n",
              "  </thead>\n",
              "  <tbody>\n",
              "    <tr>\n",
              "      <th>3559</th>\n",
              "      <td>A10003</td>\n",
              "      <td>consult program management project sales</td>\n",
              "      <td></td>\n",
              "    </tr>\n",
              "  </tbody>\n",
              "</table>\n",
              "</div>"
            ],
            "text/plain": [
              "     candidate_id                           current_fuction current_funtion\n",
              "3559       A10003  consult program management project sales                "
            ]
          },
          "metadata": {
            "tags": []
          },
          "execution_count": 53
        }
      ]
    },
    {
      "cell_type": "markdown",
      "metadata": {
        "id": "AemV7JqVxgRc",
        "colab_type": "text"
      },
      "source": [
        "# RECOMMENDER SYSTEM\n",
        "\n",
        "COMPUTING COSINE SIMILARITY USING TFIDF"
      ]
    },
    {
      "cell_type": "code",
      "metadata": {
        "id": "e3WXvoYjw5G-",
        "colab_type": "code",
        "colab": {}
      },
      "source": [
        "from sklearn.metrics.pairwise import cosine_similarity\n",
        "\n",
        "user_tfidf= tfidf_vectorizer.transform(user_q['current_fuction'])\n",
        "cos_similarity= map(lambda x: cosine_similarity(user_tfidf, x), tfidf_kazi)"
      ],
      "execution_count": 0,
      "outputs": []
    },
    {
      "cell_type": "code",
      "metadata": {
        "id": "Qf8j2oobw5ZP",
        "colab_type": "code",
        "colab": {}
      },
      "source": [
        "output= list(cos_similarity)"
      ],
      "execution_count": 0,
      "outputs": []
    },
    {
      "cell_type": "markdown",
      "metadata": {
        "id": "WgkZsSIMy0io",
        "colab_type": "text"
      },
      "source": [
        "FUNCTION TO GET THE TOP-N RECOMENDATIONS ORDER BY SCORE"
      ]
    },
    {
      "cell_type": "code",
      "metadata": {
        "id": "zIt6x43tw5du",
        "colab_type": "code",
        "colab": {}
      },
      "source": [
        "def get_recommendation(top, df_all, scores):\n",
        "  recommendation= pd. DataFrame(columns= ['candidate_id','job_id','job_title','score'])\n",
        "  count= 0\n",
        "  for i in top:\n",
        "    recommendation.at[count, 'candidate_id']= u\n",
        "    #recommendation.at[count, 'current_fuction']= data['current_fuction'][i]\n",
        "    recommendation.at[count, 'job_title']= kazi['job_title'][i]\n",
        "    recommendation.at[count, 'job_id']=kazi['job_id'][i]\n",
        "    recommendation.at[count, 'score']= scores[count]\n",
        "    count += 1\n",
        "  return recommendation"
      ],
      "execution_count": 0,
      "outputs": []
    },
    {
      "cell_type": "markdown",
      "metadata": {
        "id": "yUZb_-d00e-n",
        "colab_type": "text"
      },
      "source": [
        "TOP RECOMMENDATIONS USING TF-IDF"
      ]
    },
    {
      "cell_type": "code",
      "metadata": {
        "id": "RV5K--R5w5YG",
        "colab_type": "code",
        "colab": {
          "base_uri": "https://localhost:8080/",
          "height": 173
        },
        "outputId": "27f5174e-3903-4d22-f11e-981ede3d761c"
      },
      "source": [
        "top = sorted(range(len(output)), key=lambda i: output[i], reverse=True)[:10]\n",
        "list_scores = [output[i][0][0] for i in top]\n",
        "get_recommendation(top,df_all, list_scores)"
      ],
      "execution_count": 66,
      "outputs": [
        {
          "output_type": "execute_result",
          "data": {
            "text/html": [
              "<div>\n",
              "<style scoped>\n",
              "    .dataframe tbody tr th:only-of-type {\n",
              "        vertical-align: middle;\n",
              "    }\n",
              "\n",
              "    .dataframe tbody tr th {\n",
              "        vertical-align: top;\n",
              "    }\n",
              "\n",
              "    .dataframe thead th {\n",
              "        text-align: right;\n",
              "    }\n",
              "</style>\n",
              "<table border=\"1\" class=\"dataframe\">\n",
              "  <thead>\n",
              "    <tr style=\"text-align: right;\">\n",
              "      <th></th>\n",
              "      <th>candidate_id</th>\n",
              "      <th>job_id</th>\n",
              "      <th>job_title</th>\n",
              "      <th>score</th>\n",
              "    </tr>\n",
              "  </thead>\n",
              "  <tbody>\n",
              "    <tr>\n",
              "      <th>0</th>\n",
              "      <td>A10003</td>\n",
              "      <td>481</td>\n",
              "      <td>Senior Java Engineer/Tech Lead</td>\n",
              "      <td>0.150392</td>\n",
              "    </tr>\n",
              "    <tr>\n",
              "      <th>1</th>\n",
              "      <td>A10003</td>\n",
              "      <td>723</td>\n",
              "      <td>Application Developer</td>\n",
              "      <td>0.121207</td>\n",
              "    </tr>\n",
              "    <tr>\n",
              "      <th>2</th>\n",
              "      <td>A10003</td>\n",
              "      <td>194</td>\n",
              "      <td>Full stack engineer</td>\n",
              "      <td>0</td>\n",
              "    </tr>\n",
              "    <tr>\n",
              "      <th>3</th>\n",
              "      <td>A10003</td>\n",
              "      <td>839</td>\n",
              "      <td>Front End Developer</td>\n",
              "      <td>0</td>\n",
              "    </tr>\n",
              "  </tbody>\n",
              "</table>\n",
              "</div>"
            ],
            "text/plain": [
              "  candidate_id job_id                       job_title     score\n",
              "0       A10003    481  Senior Java Engineer/Tech Lead  0.150392\n",
              "1       A10003    723           Application Developer  0.121207\n",
              "2       A10003    194             Full stack engineer         0\n",
              "3       A10003    839             Front End Developer         0"
            ]
          },
          "metadata": {
            "tags": []
          },
          "execution_count": 66
        }
      ]
    },
    {
      "cell_type": "markdown",
      "metadata": {
        "id": "RbRhCKiv0z2t",
        "colab_type": "text"
      },
      "source": [
        "# USING COUNT VECTORIZER"
      ]
    },
    {
      "cell_type": "code",
      "metadata": {
        "id": "K1xYLedbw5Wx",
        "colab_type": "code",
        "colab": {
          "base_uri": "https://localhost:8080/",
          "height": 51
        },
        "outputId": "81f61415-d0cf-44e6-c314-2bf3b18b42cb"
      },
      "source": [
        "from sklearn.feature_extraction.text import CountVectorizer\n",
        "count_vectorizer = CountVectorizer()\n",
        "\n",
        "count_jobid = count_vectorizer.fit_transform((df_all['must_haves'])) #fitting and transforming the vector\n",
        "count_jobid"
      ],
      "execution_count": 70,
      "outputs": [
        {
          "output_type": "execute_result",
          "data": {
            "text/plain": [
              "<4x282 sparse matrix of type '<class 'numpy.int64'>'\n",
              "\twith 296 stored elements in Compressed Sparse Row format>"
            ]
          },
          "metadata": {
            "tags": []
          },
          "execution_count": 70
        }
      ]
    },
    {
      "cell_type": "code",
      "metadata": {
        "id": "VvigXmAZw5RO",
        "colab_type": "code",
        "colab": {}
      },
      "source": [
        "from sklearn.metrics.pairwise import cosine_similarity\n",
        "user_count = count_vectorizer.transform(user_q['current_fuction'])\n",
        "cos_similarity_countv = map(lambda x: cosine_similarity(user_count, x),count_jobid)"
      ],
      "execution_count": 0,
      "outputs": []
    },
    {
      "cell_type": "code",
      "metadata": {
        "id": "quuAJtq-w5NA",
        "colab_type": "code",
        "colab": {}
      },
      "source": [
        "output2 = list(cos_similarity_countv)"
      ],
      "execution_count": 0,
      "outputs": []
    },
    {
      "cell_type": "markdown",
      "metadata": {
        "id": "5xqvFWrO1S3e",
        "colab_type": "text"
      },
      "source": [
        "TOP RECOMMENDATION USING COUNTVECTORIZER"
      ]
    },
    {
      "cell_type": "code",
      "metadata": {
        "id": "n1fTxiebw5K_",
        "colab_type": "code",
        "colab": {
          "base_uri": "https://localhost:8080/",
          "height": 173
        },
        "outputId": "6611fb10-8ef0-4921-b945-651cf737ce45"
      },
      "source": [
        "top = sorted(range(len(output)), key=lambda i: output[i], reverse=True)[:10]\n",
        "list_scores = [output[i][0][0] for i in top]\n",
        "get_recommendation(top, df_all, list_scores)"
      ],
      "execution_count": 73,
      "outputs": [
        {
          "output_type": "execute_result",
          "data": {
            "text/html": [
              "<div>\n",
              "<style scoped>\n",
              "    .dataframe tbody tr th:only-of-type {\n",
              "        vertical-align: middle;\n",
              "    }\n",
              "\n",
              "    .dataframe tbody tr th {\n",
              "        vertical-align: top;\n",
              "    }\n",
              "\n",
              "    .dataframe thead th {\n",
              "        text-align: right;\n",
              "    }\n",
              "</style>\n",
              "<table border=\"1\" class=\"dataframe\">\n",
              "  <thead>\n",
              "    <tr style=\"text-align: right;\">\n",
              "      <th></th>\n",
              "      <th>candidate_id</th>\n",
              "      <th>job_id</th>\n",
              "      <th>job_title</th>\n",
              "      <th>score</th>\n",
              "    </tr>\n",
              "  </thead>\n",
              "  <tbody>\n",
              "    <tr>\n",
              "      <th>0</th>\n",
              "      <td>A10003</td>\n",
              "      <td>481</td>\n",
              "      <td>Senior Java Engineer/Tech Lead</td>\n",
              "      <td>0.150392</td>\n",
              "    </tr>\n",
              "    <tr>\n",
              "      <th>1</th>\n",
              "      <td>A10003</td>\n",
              "      <td>723</td>\n",
              "      <td>Application Developer</td>\n",
              "      <td>0.121207</td>\n",
              "    </tr>\n",
              "    <tr>\n",
              "      <th>2</th>\n",
              "      <td>A10003</td>\n",
              "      <td>194</td>\n",
              "      <td>Full stack engineer</td>\n",
              "      <td>0</td>\n",
              "    </tr>\n",
              "    <tr>\n",
              "      <th>3</th>\n",
              "      <td>A10003</td>\n",
              "      <td>839</td>\n",
              "      <td>Front End Developer</td>\n",
              "      <td>0</td>\n",
              "    </tr>\n",
              "  </tbody>\n",
              "</table>\n",
              "</div>"
            ],
            "text/plain": [
              "  candidate_id job_id                       job_title     score\n",
              "0       A10003    481  Senior Java Engineer/Tech Lead  0.150392\n",
              "1       A10003    723           Application Developer  0.121207\n",
              "2       A10003    194             Full stack engineer         0\n",
              "3       A10003    839             Front End Developer         0"
            ]
          },
          "metadata": {
            "tags": []
          },
          "execution_count": 73
        }
      ]
    },
    {
      "cell_type": "markdown",
      "metadata": {
        "id": "nqHnPW1r1rGy",
        "colab_type": "text"
      },
      "source": [
        "# RECOMMENDATION USING SPACY"
      ]
    },
    {
      "cell_type": "code",
      "metadata": {
        "id": "WZcI1d14w5E0",
        "colab_type": "code",
        "colab": {}
      },
      "source": [
        "# Import spacy\n",
        "\n",
        "import spacy"
      ],
      "execution_count": 0,
      "outputs": []
    },
    {
      "cell_type": "code",
      "metadata": {
        "id": "DDOQe2hCUdwP",
        "colab_type": "code",
        "colab": {
          "base_uri": "https://localhost:8080/",
          "height": 221
        },
        "outputId": "5e89a976-87d4-4c21-a350-30366c57c06e"
      },
      "source": [
        "!python -m spacy download en_core_web_lg # For reading strings and texts"
      ],
      "execution_count": 89,
      "outputs": [
        {
          "output_type": "stream",
          "text": [
            "Collecting en_core_web_lg==2.1.0\n",
            "\u001b[?25l  Downloading https://github.com/explosion/spacy-models/releases/download/en_core_web_lg-2.1.0/en_core_web_lg-2.1.0.tar.gz (826.9MB)\n",
            "\u001b[K     |████████████████████████████████| 826.9MB 3.1MB/s \n",
            "\u001b[?25hBuilding wheels for collected packages: en-core-web-lg\n",
            "  Building wheel for en-core-web-lg (setup.py) ... \u001b[?25l\u001b[?25hdone\n",
            "  Created wheel for en-core-web-lg: filename=en_core_web_lg-2.1.0-cp36-none-any.whl size=828255076 sha256=61189ad759be9ffcee07aac119757e6b817c6662ad7e81a91e277371b4fd01b2\n",
            "  Stored in directory: /tmp/pip-ephem-wheel-cache-stuq8_10/wheels/b4/d7/70/426d313a459f82ed5e06cc36a50e2bb2f0ec5cb31d8e0bdf09\n",
            "Successfully built en-core-web-lg\n",
            "Installing collected packages: en-core-web-lg\n",
            "Successfully installed en-core-web-lg-2.1.0\n",
            "\u001b[38;5;2m✔ Download and installation successful\u001b[0m\n",
            "You can now load the model via spacy.load('en_core_web_lg')\n"
          ],
          "name": "stdout"
        }
      ]
    },
    {
      "cell_type": "code",
      "metadata": {
        "id": "08LfZ_KIUoc3",
        "colab_type": "code",
        "colab": {
          "base_uri": "https://localhost:8080/",
          "height": 34
        },
        "outputId": "a4f8aace-f7c2-4e1c-a8b2-974eecb45f20"
      },
      "source": [
        "!ls  /usr/local/lib/python3.6/dist-packages/en_core_web_lg"
      ],
      "execution_count": 90,
      "outputs": [
        {
          "output_type": "stream",
          "text": [
            "en_core_web_lg-2.1.0  __init__.py  meta.json  __pycache__\n"
          ],
          "name": "stdout"
        }
      ]
    },
    {
      "cell_type": "code",
      "metadata": {
        "id": "09-_N7udUoPy",
        "colab_type": "code",
        "colab": {}
      },
      "source": [
        "nlp = spacy.load('/usr/local/lib/python3.6/dist-packages/en_core_web_lg/en_core_web_lg-2.1.0')"
      ],
      "execution_count": 0,
      "outputs": []
    },
    {
      "cell_type": "markdown",
      "metadata": {
        "id": "PrAjVRU316aO",
        "colab_type": "text"
      },
      "source": [
        "TRANSFORM THE CORPUS TEXT TO THE SPACY'S DOCUMENTS"
      ]
    },
    {
      "cell_type": "code",
      "metadata": {
        "id": "yD4XjF1M1ph5",
        "colab_type": "code",
        "colab": {
          "base_uri": "https://localhost:8080/",
          "height": 68
        },
        "outputId": "edb412a5-6c71-47a3-8c36-c4b225e8539a"
      },
      "source": [
        "%%time\n",
        "list_docs = []\n",
        "for i in range(len(data)):\n",
        "  doc = nlp(\"u'\" + data['current_fuction'][i] + \"'\")\n",
        "  list_docs.append((doc,i))\n",
        "print(len(list_docs))"
      ],
      "execution_count": 92,
      "outputs": [
        {
          "output_type": "stream",
          "text": [
            "7006\n",
            "CPU times: user 59.9 s, sys: 71 ms, total: 60 s\n",
            "Wall time: 1min\n"
          ],
          "name": "stdout"
        }
      ]
    },
    {
      "cell_type": "code",
      "metadata": {
        "id": "Tqh58I_71pvK",
        "colab_type": "code",
        "colab": {}
      },
      "source": [
        "def calculateSimWithSpaCy(nlp, df, user_text, n=6):\n",
        "    # Calculate similarity using spaCy\n",
        "    list_sim =[]\n",
        "    doc1 = nlp(\"u'\" + user_text + \"'\")\n",
        "    for i in df.index:\n",
        "      try:\n",
        "            doc2 = list_docs[i][0]\n",
        "            score = doc1.similarity(doc2)\n",
        "            list_sim.append((doc1, doc2, list_docs[i][1],score))\n",
        "      except:\n",
        "        continue\n",
        "\n",
        "    return  list_sim"
      ],
      "execution_count": 0,
      "outputs": []
    },
    {
      "cell_type": "code",
      "metadata": {
        "id": "bcp1yS591qEM",
        "colab_type": "code",
        "colab": {
          "base_uri": "https://localhost:8080/",
          "height": 34
        },
        "outputId": "32134ca9-d313-48d0-ec5b-af021b4ede2b"
      },
      "source": [
        "user_q.current_fuction[3559]"
      ],
      "execution_count": 97,
      "outputs": [
        {
          "output_type": "execute_result",
          "data": {
            "text/plain": [
              "'consult program management project sales'"
            ]
          },
          "metadata": {
            "tags": []
          },
          "execution_count": 97
        }
      ]
    },
    {
      "cell_type": "code",
      "metadata": {
        "id": "b0Q5VwlI1qSR",
        "colab_type": "code",
        "colab": {
          "base_uri": "https://localhost:8080/",
          "height": 51
        },
        "outputId": "ccdb60b7-92ed-4fb3-ddf1-46b956d88e61"
      },
      "source": [
        "%%time\n",
        " df3 = calculateSimWithSpaCy(nlp, df_all, user_q.current_fuction[3559], n=15)"
      ],
      "execution_count": 99,
      "outputs": [
        {
          "output_type": "stream",
          "text": [
            "CPU times: user 20.9 ms, sys: 9 µs, total: 20.9 ms\n",
            "Wall time: 21.7 ms\n"
          ],
          "name": "stdout"
        }
      ]
    },
    {
      "cell_type": "code",
      "metadata": {
        "id": "lFMVBw-G1qPP",
        "colab_type": "code",
        "colab": {}
      },
      "source": [
        "df_recom_spacy = pd.DataFrame(df3).sort_values([3], ascending=False).head(10)"
      ],
      "execution_count": 0,
      "outputs": []
    },
    {
      "cell_type": "code",
      "metadata": {
        "id": "ylbdHRRo1qLh",
        "colab_type": "code",
        "colab": {}
      },
      "source": [
        "df_recom_spacy.reset_index(inplace= True)"
      ],
      "execution_count": 0,
      "outputs": []
    },
    {
      "cell_type": "code",
      "metadata": {
        "id": "VzAZCzhX1qIY",
        "colab_type": "code",
        "colab": {}
      },
      "source": [
        "index_spacy = df_recom_spacy[2]\n",
        "list_scores= df_recom_spacy[3]"
      ],
      "execution_count": 0,
      "outputs": []
    },
    {
      "cell_type": "markdown",
      "metadata": {
        "id": "h8Ez3fns4Wwl",
        "colab_type": "text"
      },
      "source": [
        "TOP RECOMMENDATION USING SPACY"
      ]
    },
    {
      "cell_type": "code",
      "metadata": {
        "id": "LKFHDehI1qBw",
        "colab_type": "code",
        "colab": {
          "base_uri": "https://localhost:8080/",
          "height": 173
        },
        "outputId": "97ca2bb4-79d3-4523-a6f1-575f9145b10a"
      },
      "source": [
        "get_recommendation(index_spacy, df_all, list_scores)"
      ],
      "execution_count": 103,
      "outputs": [
        {
          "output_type": "execute_result",
          "data": {
            "text/html": [
              "<div>\n",
              "<style scoped>\n",
              "    .dataframe tbody tr th:only-of-type {\n",
              "        vertical-align: middle;\n",
              "    }\n",
              "\n",
              "    .dataframe tbody tr th {\n",
              "        vertical-align: top;\n",
              "    }\n",
              "\n",
              "    .dataframe thead th {\n",
              "        text-align: right;\n",
              "    }\n",
              "</style>\n",
              "<table border=\"1\" class=\"dataframe\">\n",
              "  <thead>\n",
              "    <tr style=\"text-align: right;\">\n",
              "      <th></th>\n",
              "      <th>candidate_id</th>\n",
              "      <th>job_id</th>\n",
              "      <th>job_title</th>\n",
              "      <th>score</th>\n",
              "    </tr>\n",
              "  </thead>\n",
              "  <tbody>\n",
              "    <tr>\n",
              "      <th>0</th>\n",
              "      <td>A10003</td>\n",
              "      <td>481</td>\n",
              "      <td>Senior Java Engineer/Tech Lead</td>\n",
              "      <td>0.820252</td>\n",
              "    </tr>\n",
              "    <tr>\n",
              "      <th>1</th>\n",
              "      <td>A10003</td>\n",
              "      <td>723</td>\n",
              "      <td>Application Developer</td>\n",
              "      <td>0.807589</td>\n",
              "    </tr>\n",
              "    <tr>\n",
              "      <th>2</th>\n",
              "      <td>A10003</td>\n",
              "      <td>194</td>\n",
              "      <td>Full stack engineer</td>\n",
              "      <td>0.719579</td>\n",
              "    </tr>\n",
              "    <tr>\n",
              "      <th>3</th>\n",
              "      <td>A10003</td>\n",
              "      <td>839</td>\n",
              "      <td>Front End Developer</td>\n",
              "      <td>0.719579</td>\n",
              "    </tr>\n",
              "  </tbody>\n",
              "</table>\n",
              "</div>"
            ],
            "text/plain": [
              "  candidate_id job_id                       job_title     score\n",
              "0       A10003    481  Senior Java Engineer/Tech Lead  0.820252\n",
              "1       A10003    723           Application Developer  0.807589\n",
              "2       A10003    194             Full stack engineer  0.719579\n",
              "3       A10003    839             Front End Developer  0.719579"
            ]
          },
          "metadata": {
            "tags": []
          },
          "execution_count": 103
        }
      ]
    },
    {
      "cell_type": "markdown",
      "metadata": {
        "id": "S8p5pwJY4oqI",
        "colab_type": "text"
      },
      "source": [
        "# USING KNN"
      ]
    },
    {
      "cell_type": "code",
      "metadata": {
        "id": "Z6DBAQCs1p-F",
        "colab_type": "code",
        "colab": {}
      },
      "source": [
        "from sklearn.neighbors import NearestNeighbors\n",
        "n_neighbors = 4\n",
        "KNN= NearestNeighbors(n_neighbors, p=2)\n",
        "KNN.fit(tfidf_kazi)\n",
        "NNs= KNN.kneighbors(user_tfidf, return_distance= True)"
      ],
      "execution_count": 0,
      "outputs": []
    },
    {
      "cell_type": "code",
      "metadata": {
        "id": "t6gwqCyd1p7_",
        "colab_type": "code",
        "colab": {
          "base_uri": "https://localhost:8080/",
          "height": 34
        },
        "outputId": "c9ed1292-0e7b-4d30-adb6-261d76348798"
      },
      "source": [
        "NNs[0][0][1: ]"
      ],
      "execution_count": 108,
      "outputs": [
        {
          "output_type": "execute_result",
          "data": {
            "text/plain": [
              "array([1.32573997, 1.41421356, 1.41421356])"
            ]
          },
          "metadata": {
            "tags": []
          },
          "execution_count": 108
        }
      ]
    },
    {
      "cell_type": "markdown",
      "metadata": {
        "id": "5ZJ8QXml5ZsK",
        "colab_type": "text"
      },
      "source": [
        "RECOMMENDATIONS USING KNN"
      ]
    },
    {
      "cell_type": "code",
      "metadata": {
        "id": "dVEPecov1p2z",
        "colab_type": "code",
        "colab": {
          "base_uri": "https://localhost:8080/",
          "height": 142
        },
        "outputId": "8b4094e4-674d-464d-ab95-7ef81faf2ed9"
      },
      "source": [
        "top= NNs[1][0][1: ]\n",
        "index_score= NNs[0][0][1: ]\n",
        "\n",
        "get_recommendation(top, df_all, index_score)"
      ],
      "execution_count": 109,
      "outputs": [
        {
          "output_type": "execute_result",
          "data": {
            "text/html": [
              "<div>\n",
              "<style scoped>\n",
              "    .dataframe tbody tr th:only-of-type {\n",
              "        vertical-align: middle;\n",
              "    }\n",
              "\n",
              "    .dataframe tbody tr th {\n",
              "        vertical-align: top;\n",
              "    }\n",
              "\n",
              "    .dataframe thead th {\n",
              "        text-align: right;\n",
              "    }\n",
              "</style>\n",
              "<table border=\"1\" class=\"dataframe\">\n",
              "  <thead>\n",
              "    <tr style=\"text-align: right;\">\n",
              "      <th></th>\n",
              "      <th>candidate_id</th>\n",
              "      <th>job_id</th>\n",
              "      <th>job_title</th>\n",
              "      <th>score</th>\n",
              "    </tr>\n",
              "  </thead>\n",
              "  <tbody>\n",
              "    <tr>\n",
              "      <th>0</th>\n",
              "      <td>A10003</td>\n",
              "      <td>723</td>\n",
              "      <td>Application Developer</td>\n",
              "      <td>1.32574</td>\n",
              "    </tr>\n",
              "    <tr>\n",
              "      <th>1</th>\n",
              "      <td>A10003</td>\n",
              "      <td>194</td>\n",
              "      <td>Full stack engineer</td>\n",
              "      <td>1.41421</td>\n",
              "    </tr>\n",
              "    <tr>\n",
              "      <th>2</th>\n",
              "      <td>A10003</td>\n",
              "      <td>839</td>\n",
              "      <td>Front End Developer</td>\n",
              "      <td>1.41421</td>\n",
              "    </tr>\n",
              "  </tbody>\n",
              "</table>\n",
              "</div>"
            ],
            "text/plain": [
              "  candidate_id job_id              job_title    score\n",
              "0       A10003    723  Application Developer  1.32574\n",
              "1       A10003    194    Full stack engineer  1.41421\n",
              "2       A10003    839    Front End Developer  1.41421"
            ]
          },
          "metadata": {
            "tags": []
          },
          "execution_count": 109
        }
      ]
    },
    {
      "cell_type": "markdown",
      "metadata": {
        "id": "wJdEPw_h6S5U",
        "colab_type": "text"
      },
      "source": [
        "# BUILDING A CUSTOM WORDCLOUD"
      ]
    },
    {
      "cell_type": "code",
      "metadata": {
        "id": "Wjd_UGgo53WG",
        "colab_type": "code",
        "colab": {}
      },
      "source": [
        "#Loading libraries\n",
        "\n",
        "from PIL import Image\n",
        "from wordcloud import WordCloud, STOPWORDS, ImageColorGenerator"
      ],
      "execution_count": 0,
      "outputs": []
    },
    {
      "cell_type": "code",
      "metadata": {
        "id": "YL4dJMyH53at",
        "colab_type": "code",
        "colab": {}
      },
      "source": [
        "#Create raw text for all jobs\n",
        "\n",
        "bunch_text = \" \".join(text for text in df_all.tail(10000).must_haves)"
      ],
      "execution_count": 0,
      "outputs": []
    },
    {
      "cell_type": "code",
      "metadata": {
        "id": "OaNxxWxr53rn",
        "colab_type": "code",
        "colab": {}
      },
      "source": [
        "# Generate a word cloud image\n",
        "\n",
        "stopwords= set(STOPWORDS)\n",
        "wordcloud= WordCloud(stopwords= stopwords, background_color= 'white', colormap=\"magma\").generate(bunch_text)"
      ],
      "execution_count": 0,
      "outputs": []
    },
    {
      "cell_type": "code",
      "metadata": {
        "id": "qLkcXRNN53y0",
        "colab_type": "code",
        "colab": {
          "base_uri": "https://localhost:8080/",
          "height": 338
        },
        "outputId": "3697c1ca-113f-4b5e-eef9-c77d76ed079f"
      },
      "source": [
        "#Visualize\n",
        "\n",
        "plt.figure(figsize=[11, 11])\n",
        "plt.imshow(wordcloud, interpolation='sinc')\n",
        "plt.axis('off')\n",
        "plt.show()"
      ],
      "execution_count": 133,
      "outputs": [
        {
          "output_type": "display_data",
          "data": {
            "image/png": "[encoded data removed]",
            "text/plain": [
              "<Figure size 792x792 with 1 Axes>"
            ]
          },
          "metadata": {
            "tags": []
          }
        }
      ]
    }
  ]
}